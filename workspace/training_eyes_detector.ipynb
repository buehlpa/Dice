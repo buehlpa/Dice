{
 "cells": [
  {
   "cell_type": "markdown",
   "metadata": {},
   "source": [
    "train a model to predict what the single dice classes are"
   ]
  },
  {
   "cell_type": "code",
   "execution_count": 9,
   "metadata": {},
   "outputs": [
    {
     "name": "stdout",
     "output_type": "stream",
     "text": [
      "Found 230 images belonging to 6 classes.\n",
      "Found 55 images belonging to 6 classes.\n",
      "Epoch 1/40\n",
      "7/7 [==============================] - 0s 20ms/step - loss: 1.7713 - accuracy: 0.2677 - val_loss: 1.6981 - val_accuracy: 0.3438\n",
      "Epoch 2/40\n",
      "7/7 [==============================] - 0s 20ms/step - loss: 1.7427 - accuracy: 0.2677 - val_loss: 1.7654 - val_accuracy: 0.2812\n",
      "Epoch 3/40\n",
      "7/7 [==============================] - 0s 12ms/step - loss: 1.7306 - accuracy: 0.2475 - val_loss: 1.7058 - val_accuracy: 0.2500\n",
      "Epoch 4/40\n",
      "7/7 [==============================] - 0s 16ms/step - loss: 1.6981 - accuracy: 0.2475 - val_loss: 1.7306 - val_accuracy: 0.2188\n",
      "Epoch 5/40\n",
      "7/7 [==============================] - 0s 19ms/step - loss: 1.6719 - accuracy: 0.2778 - val_loss: 1.5995 - val_accuracy: 0.2812\n",
      "Epoch 6/40\n",
      "7/7 [==============================] - 0s 18ms/step - loss: 1.5799 - accuracy: 0.2879 - val_loss: 1.6049 - val_accuracy: 0.2188\n",
      "Epoch 7/40\n",
      "7/7 [==============================] - 0s 18ms/step - loss: 1.6128 - accuracy: 0.2879 - val_loss: 1.4750 - val_accuracy: 0.2812\n",
      "Epoch 8/40\n",
      "7/7 [==============================] - 0s 21ms/step - loss: 1.4660 - accuracy: 0.4091 - val_loss: 1.2605 - val_accuracy: 0.6250\n",
      "Epoch 9/40\n",
      "7/7 [==============================] - 0s 16ms/step - loss: 1.2385 - accuracy: 0.4899 - val_loss: 1.1447 - val_accuracy: 0.6562\n",
      "Epoch 10/40\n",
      "7/7 [==============================] - 0s 17ms/step - loss: 1.0973 - accuracy: 0.5580 - val_loss: 0.8789 - val_accuracy: 0.7188\n",
      "Epoch 11/40\n",
      "7/7 [==============================] - 0s 19ms/step - loss: 0.9410 - accuracy: 0.6414 - val_loss: 0.8304 - val_accuracy: 0.7188\n",
      "Epoch 12/40\n",
      "7/7 [==============================] - 0s 10ms/step - loss: 0.6474 - accuracy: 0.7879 - val_loss: 0.4033 - val_accuracy: 0.9688\n",
      "Epoch 13/40\n",
      "7/7 [==============================] - 0s 10ms/step - loss: 0.4630 - accuracy: 0.8636 - val_loss: 0.2136 - val_accuracy: 0.9688\n",
      "Epoch 14/40\n",
      "7/7 [==============================] - 0s 13ms/step - loss: 0.3957 - accuracy: 0.8990 - val_loss: 0.2060 - val_accuracy: 0.9375\n",
      "Epoch 15/40\n",
      "7/7 [==============================] - 0s 14ms/step - loss: 0.3632 - accuracy: 0.8939 - val_loss: 0.1761 - val_accuracy: 1.0000\n",
      "Epoch 16/40\n",
      "7/7 [==============================] - 0s 10ms/step - loss: 0.2946 - accuracy: 0.9040 - val_loss: 0.1036 - val_accuracy: 1.0000\n",
      "Epoch 17/40\n",
      "7/7 [==============================] - 0s 18ms/step - loss: 0.3557 - accuracy: 0.9040 - val_loss: 0.2506 - val_accuracy: 0.9062\n",
      "Epoch 18/40\n",
      "7/7 [==============================] - 0s 11ms/step - loss: 0.2290 - accuracy: 0.9394 - val_loss: 0.3025 - val_accuracy: 0.9062\n",
      "Epoch 19/40\n",
      "7/7 [==============================] - 0s 15ms/step - loss: 0.2604 - accuracy: 0.9091 - val_loss: 0.2013 - val_accuracy: 0.9375\n",
      "Epoch 20/40\n",
      "7/7 [==============================] - 0s 13ms/step - loss: 0.2797 - accuracy: 0.8889 - val_loss: 0.1577 - val_accuracy: 0.9375\n",
      "Epoch 21/40\n",
      "7/7 [==============================] - 0s 11ms/step - loss: 0.2255 - accuracy: 0.9196 - val_loss: 0.2096 - val_accuracy: 0.9062\n",
      "Epoch 22/40\n",
      "7/7 [==============================] - 0s 19ms/step - loss: 0.1844 - accuracy: 0.9495 - val_loss: 0.1915 - val_accuracy: 0.9375\n",
      "Epoch 23/40\n",
      "7/7 [==============================] - 0s 9ms/step - loss: 0.2126 - accuracy: 0.9192 - val_loss: 0.1506 - val_accuracy: 0.9688\n",
      "Epoch 24/40\n",
      "7/7 [==============================] - 0s 10ms/step - loss: 0.1754 - accuracy: 0.9444 - val_loss: 0.2768 - val_accuracy: 0.9062\n",
      "Epoch 25/40\n",
      "7/7 [==============================] - 0s 13ms/step - loss: 0.2259 - accuracy: 0.9107 - val_loss: 0.1483 - val_accuracy: 0.9688\n",
      "Epoch 26/40\n",
      "7/7 [==============================] - 0s 13ms/step - loss: 0.2057 - accuracy: 0.9242 - val_loss: 0.1137 - val_accuracy: 0.9688\n",
      "Epoch 27/40\n",
      "7/7 [==============================] - 0s 12ms/step - loss: 0.1649 - accuracy: 0.9495 - val_loss: 0.0904 - val_accuracy: 0.9688\n",
      "Epoch 28/40\n",
      "7/7 [==============================] - 0s 12ms/step - loss: 0.1712 - accuracy: 0.9444 - val_loss: 0.1430 - val_accuracy: 0.9375\n",
      "Epoch 29/40\n",
      "7/7 [==============================] - 0s 16ms/step - loss: 0.1816 - accuracy: 0.9444 - val_loss: 0.0782 - val_accuracy: 0.9688\n",
      "Epoch 30/40\n",
      "7/7 [==============================] - 0s 11ms/step - loss: 0.1546 - accuracy: 0.9394 - val_loss: 0.2004 - val_accuracy: 0.9062\n",
      "Epoch 31/40\n",
      "7/7 [==============================] - 0s 11ms/step - loss: 0.1124 - accuracy: 0.9747 - val_loss: 0.1380 - val_accuracy: 0.9688\n",
      "Epoch 32/40\n",
      "7/7 [==============================] - 0s 10ms/step - loss: 0.1460 - accuracy: 0.9343 - val_loss: 0.2077 - val_accuracy: 0.9062\n",
      "Epoch 33/40\n",
      "7/7 [==============================] - 0s 13ms/step - loss: 0.1011 - accuracy: 0.9697 - val_loss: 0.0315 - val_accuracy: 1.0000\n",
      "Epoch 34/40\n",
      "7/7 [==============================] - 0s 10ms/step - loss: 0.0980 - accuracy: 0.9545 - val_loss: 0.0466 - val_accuracy: 0.9688\n",
      "Epoch 35/40\n",
      "7/7 [==============================] - 0s 16ms/step - loss: 0.0825 - accuracy: 0.9646 - val_loss: 0.0218 - val_accuracy: 1.0000\n",
      "Epoch 36/40\n",
      "7/7 [==============================] - 0s 14ms/step - loss: 0.0670 - accuracy: 0.9798 - val_loss: 0.0076 - val_accuracy: 1.0000\n",
      "Epoch 37/40\n",
      "7/7 [==============================] - 0s 15ms/step - loss: 0.1351 - accuracy: 0.9646 - val_loss: 0.0909 - val_accuracy: 0.9688\n",
      "Epoch 38/40\n",
      "7/7 [==============================] - 0s 13ms/step - loss: 0.0895 - accuracy: 0.9596 - val_loss: 0.1442 - val_accuracy: 0.9375\n",
      "Epoch 39/40\n",
      "7/7 [==============================] - 0s 14ms/step - loss: 0.1159 - accuracy: 0.9598 - val_loss: 0.0474 - val_accuracy: 1.0000\n",
      "Epoch 40/40\n",
      "7/7 [==============================] - 0s 18ms/step - loss: 0.1001 - accuracy: 0.9596 - val_loss: 0.0387 - val_accuracy: 1.0000\n"
     ]
    },
    {
     "data": {
      "text/plain": [
       "<keras.src.callbacks.History at 0x7f5258181d00>"
      ]
     },
     "execution_count": 9,
     "metadata": {},
     "output_type": "execute_result"
    }
   ],
   "source": [
    "import tensorflow as tf\n",
    "from tensorflow.keras.models import Sequential\n",
    "from tensorflow.keras.layers import Conv2D, MaxPooling2D, Flatten, Dense, Dropout\n",
    "from tensorflow.keras.preprocessing.image import ImageDataGenerator\n",
    "\n",
    "# Set parameters\n",
    "img_width, img_height = 30, 30\n",
    "batch_size = 32\n",
    "\n",
    "# Define a simple CNN model\n",
    "model = Sequential([\n",
    "    Conv2D(32, (3, 3), activation='relu', input_shape=(img_width, img_height, 1)),\n",
    "    MaxPooling2D((2, 2)),\n",
    "    Conv2D(64, (3, 3), activation='relu'),\n",
    "    MaxPooling2D((2, 2)),\n",
    "    Conv2D(128, (3, 3), activation='relu'),\n",
    "    MaxPooling2D((2, 2)),\n",
    "    Flatten(),\n",
    "    Dense(512, activation='relu'),\n",
    "    Dropout(0.5),\n",
    "    Dense(6, activation='softmax')  # Assuming 3 classes\n",
    "])\n",
    "\n",
    "model.compile(optimizer='adam', loss='categorical_crossentropy', metrics=['accuracy'])\n",
    "\n",
    "# Data generators for training and validation\n",
    "train_datagen = ImageDataGenerator(\n",
    "    rescale=1./255,\n",
    "    validation_split=0.2, \n",
    "    horizontal_flip=True,  # Enable horizontal flip\n",
    "    rotation_range=90# Splitting data into 80% training and 20% validation\n",
    ")\n",
    "\n",
    "train_generator = train_datagen.flow_from_directory(\n",
    "    '/home/bule/projects/Dice/data/single_dices/single_dices/dice_classes',\n",
    "    target_size=(img_width, img_height),\n",
    "    batch_size=batch_size,\n",
    "    class_mode='categorical',\n",
    "    color_mode='grayscale',  # Specify grayscale images\n",
    "    subset='training'\n",
    ")\n",
    "\n",
    "validation_generator = train_datagen.flow_from_directory(\n",
    "    '/home/bule/projects/Dice/data/single_dices/single_dices/dice_classes',\n",
    "    target_size=(img_width, img_height),\n",
    "    batch_size=batch_size,\n",
    "    class_mode='categorical',\n",
    "    color_mode='grayscale',  # Specify grayscale images\n",
    "    subset='validation'\n",
    ")\n",
    "\n",
    "# Train the model\n",
    "model.fit(\n",
    "    train_generator,\n",
    "    steps_per_epoch=train_generator.samples // batch_size,\n",
    "    validation_data=validation_generator,\n",
    "    validation_steps=validation_generator.samples // batch_size,\n",
    "    epochs=40  # Adjust the number of epochs according to your needs\n",
    ")\n"
   ]
  },
  {
   "cell_type": "code",
   "execution_count": 23,
   "metadata": {},
   "outputs": [
    {
     "data": {
      "image/png": "[encoded data removed]",
      "text/plain": [
       "<Figure size 640x480 with 1 Axes>"
      ]
     },
     "metadata": {},
     "output_type": "display_data"
    },
    {
     "name": "stdout",
     "output_type": "stream",
     "text": [
      "1/1 [==============================] - 0s 8ms/step\n",
      "[[9.9958140e-01 2.7688311e-05 3.9097472e-04 4.8002461e-12 6.2728878e-10\n",
      "  1.9545752e-11]]\n"
     ]
    }
   ],
   "source": [
    "from tensorflow.keras.preprocessing import image\n",
    "import cv2\n",
    "import numpy as np\n",
    "import matplotlib.pyplot as plt\n",
    "\n",
    "\n",
    "\n",
    "\n",
    "\n",
    "def make_prediction(model, file_path):\n",
    "    # Load the image file, converting it to a numpy array\n",
    "    img = image.load_img(file_path, target_size=(img_width, img_height), color_mode='grayscale')\n",
    "    img_array = image.img_to_array(img)\n",
    "\n",
    "    # Rescale the image (as we did for the training images)\n",
    "    img_array /= 255.0\n",
    "\n",
    "    # Add a new axis to make the image array compatible with the model (expects a batch)\n",
    "    img_array = np.expand_dims(img_array, axis=0)\n",
    "\n",
    "    # Make the prediction\n",
    "    prediction = model.predict(img_array)\n",
    "\n",
    "    return prediction\n",
    "\n",
    "# Usage\n",
    "# model should be the trained model you want to use for prediction\n",
    "# '/path/to/image.png' should be the path to the image you want to predict\n",
    "\n",
    "img_path = \"/home/bule/projects/Dice/data/single_dices/single_dices/dice_classes/1/dice25.png\"\n",
    "img = cv2.imread(img_path)\n",
    "plt.imshow(img)\n",
    "plt.show()\n",
    "\n",
    "prediction = make_prediction(model, img_path)\n",
    "print(prediction)\n"
   ]
  },
  {
   "cell_type": "code",
   "execution_count": 24,
   "metadata": {},
   "outputs": [
    {
     "name": "stdout",
     "output_type": "stream",
     "text": [
      "INFO:tensorflow:Assets written to: /tmp/tmpq0qtty1e/assets\n"
     ]
    },
    {
     "name": "stderr",
     "output_type": "stream",
     "text": [
      "INFO:tensorflow:Assets written to: /tmp/tmpq0qtty1e/assets\n"
     ]
    },
    {
     "name": "stdout",
     "output_type": "stream",
     "text": [
      "Model converted to TensorFlow Lite and saved.\n"
     ]
    },
    {
     "name": "stderr",
     "output_type": "stream",
     "text": [
      "2023-11-04 19:38:39.640056: W tensorflow/compiler/mlir/lite/python/tf_tfl_flatbuffer_helpers.cc:378] Ignored output_format.\n",
      "2023-11-04 19:38:39.640069: W tensorflow/compiler/mlir/lite/python/tf_tfl_flatbuffer_helpers.cc:381] Ignored drop_control_dependency.\n",
      "2023-11-04 19:38:39.640218: I tensorflow/cc/saved_model/reader.cc:83] Reading SavedModel from: /tmp/tmpq0qtty1e\n",
      "2023-11-04 19:38:39.640958: I tensorflow/cc/saved_model/reader.cc:51] Reading meta graph with tags { serve }\n",
      "2023-11-04 19:38:39.640963: I tensorflow/cc/saved_model/reader.cc:146] Reading SavedModel debug info (if present) from: /tmp/tmpq0qtty1e\n",
      "2023-11-04 19:38:39.642671: I tensorflow/compiler/mlir/mlir_graph_optimization_pass.cc:382] MLIR V1 optimization pass is not enabled\n",
      "2023-11-04 19:38:39.643204: I tensorflow/cc/saved_model/loader.cc:233] Restoring SavedModel bundle.\n",
      "2023-11-04 19:38:39.670406: I tensorflow/cc/saved_model/loader.cc:217] Running initialization op on SavedModel bundle at path: /tmp/tmpq0qtty1e\n",
      "2023-11-04 19:38:39.677270: I tensorflow/cc/saved_model/loader.cc:316] SavedModel load for tags { serve }; Status: success: OK. Took 37052 microseconds.\n",
      "2023-11-04 19:38:39.685690: I tensorflow/compiler/mlir/tensorflow/utils/dump_mlir_util.cc:269] disabling MLIR crash reproducer, set env var `MLIR_CRASH_REPRODUCER_DIRECTORY` to enable.\n"
     ]
    }
   ],
   "source": [
    "# Convert the model to TensorFlow Lite format\n",
    "converter = tf.lite.TFLiteConverter.from_keras_model(model)\n",
    "tflite_model = converter.convert()\n",
    "\n",
    "# Save the TensorFlow Lite model to a file\n",
    "with open('model_single_dices.tflite', 'wb') as f:\n",
    "    f.write(tflite_model)\n",
    "\n",
    "print(\"Model converted to TensorFlow Lite and saved.\")\n"
   ]
  }
 ],
 "metadata": {
  "kernelspec": {
   "display_name": "base",
   "language": "python",
   "name": "python3"
  },
  "language_info": {
   "codemirror_mode": {
    "name": "ipython",
    "version": 3
   },
   "file_extension": ".py",
   "mimetype": "text/x-python",
   "name": "python",
   "nbconvert_exporter": "python",
   "pygments_lexer": "ipython3",
   "version": "3.9.18"
  }
 },
 "nbformat": 4,
 "nbformat_minor": 2
}
