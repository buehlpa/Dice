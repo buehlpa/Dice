{
 "cells": [
  {
   "cell_type": "code",
   "execution_count": null,
   "metadata": {},
   "outputs": [],
   "source": [
    "import os\n",
    "import random\n",
    "\n",
    "# Set the directory path\n",
    "dir_path = '/home/bule/projects/Dice/data/numbers/still_labels'\n",
    "\n",
    "# Create a dictionary to store the filenames for each number\n",
    "num_files = { \"0\": [], \"1\": [], \"2\": [], \"3\": [], \"4\": [], \"5\": []}\n",
    "\n",
    "# Loop through all the files in the directory and add the filename to the corresponding number in the dictionary\n",
    "for filename in os.listdir(dir_path):\n",
    "    if filename.endswith('.txt'):\n",
    "        with open(os.path.join(dir_path, filename), 'r') as f:\n",
    "            for line in f:\n",
    "                parts = line.strip().split()\n",
    "                if parts:\n",
    "                    num = int(parts[0])\n",
    "                    num_files[str(num)].append(filename)\n",
    "num_files\n",
    "\n",
    "# Calculate the number of files to sample for each number based on the total number of files and the proportion of each number\n",
    "total_files = sum(len(files) for files in num_files.values())\n",
    "num_samples = {num: int(len(files) / total_files * 0.8 * total_files) for num, files in num_files.items()}\n",
    "\n",
    "# Sample the files for each number using the calculated number of files to sample\n",
    "sampled_files = []\n",
    "for num, files in num_files.items():\n",
    "    sampled_files.extend(random.sample(files, num_samples[num]))\n",
    "\n",
    "# Combine the sampled files for each number into a list of filenames\n",
    "sampled_filenames = [os.path.join(dir_path, filename) for filename in sampled_files]\n"
   ]
  },
  {
   "cell_type": "code",
   "execution_count": null,
   "metadata": {},
   "outputs": [],
   "source": [
    "subsampled_filenames = [img[51:-4] for img in sampled_filenames]\n",
    "imgpaths=[os.path.join('/home/bule/projects/Dice/data/numbers/still',img) for img in os.listdir('/home/bule/projects/Dice/data/numbers/still')]\n",
    "sampledimpaths= [img for img in imgpaths if img[44:-4] in subsampled_filenames]\n"
   ]
  },
  {
   "cell_type": "code",
   "execution_count": null,
   "metadata": {},
   "outputs": [],
   "source": [
    "# Set the source and destination directories\n",
    "src_dir = '/home/bule/projects/Dice/data/numbers/still'\n",
    "dst_dir = '/home/bule/projects/Dice/data/numbers/still_split/images/train'\n",
    "\n",
    "# Create the destination directory if it doesn't exist\n",
    "if not os.path.exists(dst_dir):\n",
    "    os.makedirs(dst_dir)\n",
    "\n",
    "# Move the files from the source directory to the destination directory\n",
    "for filename in os.listdir(src_dir):\n",
    "    if os.path.join(src_dir, filename) in sampledimpaths:\n",
    "        shutil.move(os.path.join(src_dir, filename), os.path.join(dst_dir, filename))"
   ]
  },
  {
   "cell_type": "code",
   "execution_count": null,
   "metadata": {},
   "outputs": [],
   "source": [
    "import shutil\n",
    "import os\n",
    "len(sampledimpaths)\n",
    "\n",
    "# Set the source and destination directories\n",
    "src_dir = '/home/bule/projects/Dice/data/numbers/still_labels'\n",
    "dst_dir = '/home/bule/projects/Dice/data/numbers/still_split/labels/train'\n",
    "\n",
    "# Create the destination directory if it doesn't exist\n",
    "if not os.path.exists(dst_dir):\n",
    "    os.makedirs(dst_dir)\n",
    "\n",
    "# Move the files from the source directory to the destination directory\n",
    "for filename in os.listdir(src_dir):\n",
    "    if  os.path.join(src_dir, filename) in sampled_filenames:\n",
    "        shutil.move(os.path.join(src_dir, filename), os.path.join(dst_dir, filename))\n"
   ]
  }
 ],
 "metadata": {
  "language_info": {
   "name": "python"
  }
 },
 "nbformat": 4,
 "nbformat_minor": 2
}
