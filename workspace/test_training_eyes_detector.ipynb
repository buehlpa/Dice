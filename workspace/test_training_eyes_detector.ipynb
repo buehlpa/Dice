import os

def test_images_in_path(path):
    classes = os.listdir(path)
    for class_name in classes:
        class_path = os.path.join(path, class_name)
        images = os.listdir(class_path)
        for image in images:
            image_path = os.path.join(class_path, image)
            # Perform your testing logic here
            # ...

# Test the images in the given path
test_images_in_path('/home/bule/projects/Dice/workspace/data/new_filz/Testset')