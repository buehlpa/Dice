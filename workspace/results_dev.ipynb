{
 "cells": [
  {
   "cell_type": "code",
   "execution_count": 1,
   "metadata": {},
   "outputs": [
    {
     "ename": "NameError",
     "evalue": "name 'pd' is not defined",
     "output_type": "error",
     "traceback": [
      "\u001b[1;31m---------------------------------------------------------------------------\u001b[0m",
      "\u001b[1;31mNameError\u001b[0m                                 Traceback (most recent call last)",
      "Cell \u001b[1;32mIn[1], line 1\u001b[0m\n\u001b[1;32m----> 1\u001b[0m df \u001b[38;5;241m=\u001b[39m \u001b[43mpd\u001b[49m\u001b[38;5;241m.\u001b[39mread_csv(\u001b[38;5;124m'\u001b[39m\u001b[38;5;124mresults.csv\u001b[39m\u001b[38;5;124m'\u001b[39m)\n\u001b[0;32m      2\u001b[0m df\n",
      "\u001b[1;31mNameError\u001b[0m: name 'pd' is not defined"
     ]
    }
   ],
   "source": [
    "df = pd.read_csv('results.csv')\n",
    "df"
   ]
  },
  {
   "cell_type": "code",
   "execution_count": 2,
   "metadata": {},
   "outputs": [
    {
     "name": "stdout",
     "output_type": "stream",
     "text": [
      "CPU times: total: 0 ns\n",
      "Wall time: 0 ns\n"
     ]
    }
   ],
   "source": [
    "%time\n",
    "import os\n",
    "import pandas as pd\n",
    "import matplotlib.pyplot as plt\n",
    "from matplotlib.offsetbox import OffsetImage, AnnotationBbox\n",
    "from matplotlib.ticker import MaxNLocator\n",
    "import numpy as np\n",
    "from scipy.stats import binom\n",
    "from matplotlib import gridspec\n",
    "import time\n",
    "\n",
    "# Lock matplotlib for multithreading\n",
    "#plt.switch_backend('Agg')\n",
    "from threading import Lock\n",
    "matplotlib_lock = Lock()\n",
    "\n",
    "STATPATH = r'C:\\Users\\buehl\\repos\\Dice\\dev_app\\static'\n",
    "\n",
    "def place_image(ax, img_path, xy, zoom=1):\n",
    "    img = plt.imread(img_path)\n",
    "    imagebox = OffsetImage(img, zoom=zoom)\n",
    "    ab = AnnotationBbox(imagebox, xy, frameon=True, xybox=(20, -15), boxcoords=\"offset points\", pad=0)\n",
    "    ax.add_artist(ab)\n",
    "\n",
    "def plot_histogram(ax, df, column_names=['white', 'red']):\n",
    "    german_dict = {'white':'Weiss - Gewürfelt', 'red':'Rot - Gewürfelt'}\n",
    "    \n",
    "    # Set x-axis to integers only\n",
    "    ax.xaxis.set_major_locator(MaxNLocator(integer=True))\n",
    "    \n",
    "    # Plot each column's histogram side by side\n",
    "    bar_width = 0.25\n",
    "    for i, column_name in enumerate(column_names):\n",
    "        rolls = df[column_name].dropna().tolist()\n",
    "        if len(rolls) != 0:\n",
    "            # Calculate observed frequencies and p-value\n",
    "            observed_frequencies = [rolls.count(i) / len(rolls) for i in range(1, 7)]\n",
    "\n",
    "            # Plot bar chart for observed frequencies\n",
    "            ax.bar([x + i * bar_width for x in range(1, 7)], \n",
    "                   observed_frequencies, \n",
    "                   alpha=0.8, label=german_dict[column_name], width=bar_width,\n",
    "                   edgecolor='black',\n",
    "                   color='red' if column_name == 'red' else 'white')\n",
    "\n",
    "            # Annotate each bar with the actual count for each outcome\n",
    "            for x, freq in zip(range(1, 7), observed_frequencies):\n",
    "                ax.text(x + (i * bar_width), freq + 0.0, f'{rolls.count(x)}', ha='center', va='bottom')\n",
    "\n",
    "    # Plot theoretical probabilities (shared between both columns)\n",
    "    theoretical_probs = [1/6] * 6\n",
    "    ax.bar([x + len(column_names) * bar_width for x in range(1, 7)], \n",
    "           theoretical_probs, \n",
    "           alpha=0.1, label=f'Theoretisch', width=bar_width,\n",
    "           color='blue', hatch='//')\n",
    "\n",
    "    # Remove numerical x-tick labels and place images instead\n",
    "    ax.set_xticks([1 + i * bar_width + len(column_names) * bar_width / 2 for i in range(6)])\n",
    "    ax.set_xticklabels([])  # Remove x-tick labels\n",
    "    ax.tick_params(axis='both', which='both', length=0)  # Remove axis ticks\n",
    "\n",
    "    for i in range(1, 7):\n",
    "        place_image(ax, os.path.join(STATPATH, f'side{i}.jpg'), xy=(i, 0), zoom=0.04)\n",
    "\n",
    "    len_white = len(df['white'].dropna().tolist())\n",
    "    len_red = len(df['red'].dropna().tolist())\n",
    "\n",
    "    ax.set_title(f' Anzahl Würfe - Rot: {len_white}, Weiss: {len_red}')\n",
    "    ax.set_ylabel('Relative Häufigkeit')\n",
    "    ax.legend()\n",
    "    \n",
    "def plot_binomial_test(sample_size, observed, color='white', p_alt=2.5/6, alpha=0.05, ax=None):\n",
    "    # Define parameters\n",
    "    p_true = 1/6   # Probability of success for the null hypothesis\n",
    "\n",
    "    # Calculate critical value for significance level\n",
    "    critical_value = binom.ppf(1 - alpha, sample_size, p_true)\n",
    "\n",
    "    # Generate sequence of possible outcomes\n",
    "    x = np.arange(0, sample_size)\n",
    "\n",
    "    # Calculate probability mass function values for the null hypothesis\n",
    "    density_null = binom.pmf(x, sample_size, p_true)\n",
    "\n",
    "    # Calculate power of the test\n",
    "    power = 1 - binom.cdf(observed - 1, sample_size, p_alt)\n",
    "\n",
    "    # Calculate p-value for the observed value under the real distribution\n",
    "    p_value_observed = 1 - binom.cdf(observed - 1, sample_size, p_true)\n",
    "\n",
    "    # Plot the density function\n",
    "    ax.bar(x, density_null, color='blue', hatch='//', edgecolor='black', alpha=0.1, label=f'Theoretisch')\n",
    "\n",
    "    # Add vertical lines for critical value and observed value\n",
    "    ax.axvline(x=int(critical_value), color='black', linestyle='--', label=f'95% Quantil: {int(critical_value)}')\n",
    "    \n",
    "    if color == 'red':\n",
    "        ax.axvline(x=int(observed), color='red', linestyle='--', label=f'Anzahl: {int(observed)}')\n",
    "    else:    \n",
    "        ax.axvline(x=int(observed), color='grey', linestyle='--', label=f'Anzahl: {int(observed)}')\n",
    "    \n",
    "    \n",
    "    # Add legend\n",
    "    ax.legend()\n",
    "\n",
    "    if color == 'red':\n",
    "        ax.set_title(f'Binomial Test Rot Nr. 3\\n')\n",
    "    if color == 'white':\n",
    "        ax.set_title(f'Binomial Test Weiss Nr. 6\\n')\n",
    "    \n",
    "    ax.set_xlabel('Anzahl Erfolge')\n",
    "    ax.set_ylabel('Relative Häufigkeit')\n",
    "    \n",
    "    # Set integer ticks for x-axis\n",
    "    # ax.set_xticks(np.arange(0, sample_size+1, step=1))\n",
    "    # ax.tick_params(axis='x')\n",
    "\n",
    "    # Customize the frame\n",
    "    ax.spines['top'].set_visible(False)\n",
    "    ax.spines['right'].set_visible(False)\n",
    "    \n",
    "    # Add a text box in front of the plot\n",
    "    text = f'Power: {power:.2f}\\n'\n",
    "    text += f'P-value: {p_value_observed:.2f}\\n\\n'\n",
    "    if p_value_observed < alpha:\n",
    "        text += \"Würfel ist vermutlich gezinkt!\"\n",
    "        text_color = 'red'\n",
    "    else:\n",
    "        text += \"Kein Beweis für einen gefälschten Würfel!\"\n",
    "        text_color = 'green'\n",
    "    \n",
    "    ax.text(0.72, 0.3, text, transform=ax.transAxes,\n",
    "             bbox=dict(facecolor='white', edgecolor='black', boxstyle='round,pad=1'),\n",
    "             fontsize=12, color=text_color, ha='center', va='center')\n",
    "\n",
    "def plot_binomial_test_only_text(sample_size, observed, color='white', p_alt=2.5/6, alpha=0.05, ax=None):\n",
    "    # Define parameters\n",
    "    p_true = 1/6   # Probability of success for the null hypothesis\n",
    "\n",
    "    # Calculate critical value for significance level\n",
    "    critical_value = binom.ppf(1 - alpha, sample_size, p_true)\n",
    "\n",
    "    # Calculate power of the test\n",
    "    power = 1 - binom.cdf(observed - 1, sample_size, p_alt)\n",
    "\n",
    "    # Calculate p-value for the observed value under the real distribution\n",
    "    p_value_observed = 1 - binom.cdf(observed - 1, sample_size, p_true)\n",
    "\n",
    "    if color == 'red':\n",
    "        test_type = 'Binomial Test Rot Nr. 3'\n",
    "    else:\n",
    "        test_type = 'Binomial Test Weiss Nr. 6'\n",
    "\n",
    "    # Set title and axes labels\n",
    "    if ax is not None:\n",
    "        if color == 'red':\n",
    "            ax.set_title(f'Binomial Test für  Rot Nr. 3\\n')\n",
    "        else:\n",
    "            ax.set_title(f'Binomial Test für  Weiss Nr. 6\\n')\n",
    "\n",
    "        # Add text box in front of the plot\n",
    "        text = f'Power: {power:.2f}\\n'\n",
    "        text += f'P-value: {p_value_observed:.2f}\\n\\n'\n",
    "        if p_value_observed < alpha:\n",
    "            text += \"Würfel ist vermutlich gezinkt!\"\n",
    "            text_color = 'red'\n",
    "        else:\n",
    "            text += \"Kein Beweis für einen gefälschten Würfel!\"\n",
    "            text_color = 'green'\n",
    "\n",
    "        ax.text(0.5, 0.8, text, transform=ax.transAxes,\n",
    "                bbox=dict(facecolor='white', edgecolor='black', boxstyle='round,pad=1'),\n",
    "                fontsize=12, color=text_color, ha='center', va='center')\n",
    "\n",
    "\n",
    "def plot_histogram_and_binomial_tests(data_path):\n",
    "    \n",
    "    with matplotlib_lock:\n",
    "        fig = plt.figure(figsize=(20, 8))  # Adjust the figure size here\n",
    "        gs = gridspec.GridSpec(2, 2, width_ratios=[1.5, 1], height_ratios=[1, 1])  # Custom grid layout\n",
    "        \n",
    "        #count 6es and 3s\n",
    "        start_time = time.time()\n",
    "        df = pd.read_csv(data_path)\n",
    "        white_list,red_list = df['white'].dropna().tolist(), df['red'].dropna().tolist()\n",
    "        execution_read = time.time() - start_time\n",
    "        \n",
    "        white_6=  white_list.count(6)\n",
    "        red_3= red_list.count(3)\n",
    "        \n",
    "        ax_histogram = plt.subplot(gs[:, 0])\n",
    "        \n",
    "        start_time = time.time()\n",
    "        plot_histogram(ax_histogram, df)\n",
    "        execution_time_hist = time.time() - start_time\n",
    "        \n",
    "        ax_white_test = plt.subplot(gs[0, 1])\n",
    "        ax_red_test = plt.subplot(gs[1, 1])\n",
    "        \n",
    "\n",
    "        # TODO : change the real probas\n",
    "        start_time = time.time()\n",
    "        if white_6 > 0:\n",
    "            # ax_white_test.axis('off')\n",
    "            # plot_binomial_test_only_text(sample_size=30, observed=4, color='white', p_alt=2.5/6, alpha=0.05, ax=ax_white_test)\n",
    "            plot_binomial_test(sample_size=len(white_list), observed=white_6, color='white', p_alt=2.5/6, alpha=0.05, ax=ax_white_test)\n",
    "        else:\n",
    "            ax_white_test.axis('off')\n",
    "            \n",
    "        execution_time_binom_1 = time.time() - start_time\n",
    "        \n",
    "        start_time = time.time()\n",
    "        if red_3 > 0:\n",
    "            # ax_red_test.axis('off')\n",
    "            # plot_binomial_test_only_text(sample_size=30, observed=4, color='red', p_alt=2.5/6, alpha=0.05, ax=ax_red_test)\n",
    "            plot_binomial_test(sample_size=len(red_list), observed=red_3, color='red', p_alt=2.5/6, alpha=0.05, ax=ax_red_test)\n",
    "        else:\n",
    "            ax_red_test.axis('off')\n",
    "        execution_time_binom_2 = time.time() - start_time\n",
    "        \n",
    "        start_time = time.time()\n",
    "        plt.tight_layout()\n",
    "        plt.show()\n",
    "        execution_plot = time.time() - start_time\n",
    "        \n",
    "        print(f'Time exectition {execution_read} Time to plot histogram: {execution_time_hist:.2f} seconds, Time to plot binomial test 1: {execution_time_binom_1:.2f} seconds, Time to plot binomial test 2: {execution_time_binom_2:.2f} seconds ,{execution_plot}')\n",
    "\n",
    "\n"
   ]
  },
  {
   "cell_type": "code",
   "execution_count": 3,
   "metadata": {},
   "outputs": [
    {
     "data": {
      "image/png": "[encoded data removed]",
      "text/plain": [
       "<Figure size 2000x800 with 3 Axes>"
      ]
     },
     "metadata": {},
     "output_type": "display_data"
    },
    {
     "name": "stdout",
     "output_type": "stream",
     "text": [
      "Time exectition 0.008001565933227539 Time to plot histogram: 0.05 seconds, Time to plot binomial test 1: 0.04 seconds, Time to plot binomial test 2: 0.04 seconds ,0.6440548896789551\n",
      "Execution time: 0.847104549407959 seconds\n"
     ]
    }
   ],
   "source": [
    "import time\n",
    "\n",
    "start_time = time.time()\n",
    "plot_histogram_and_binomial_tests('results.csv')\n",
    "end_time = time.time()\n",
    "\n",
    "execution_time = end_time - start_time\n",
    "print(f\"Execution time: {execution_time} seconds\")\n"
   ]
  },
  {
   "cell_type": "code",
   "execution_count": 99,
   "metadata": {},
   "outputs": [
    {
     "data": {
      "image/png": "[encoded data removed]",
      "text/plain": [
       "<Figure size 1200x600 with 1 Axes>"
      ]
     },
     "metadata": {},
     "output_type": "display_data"
    }
   ],
   "source": [
    "import os\n",
    "import pandas as pd\n",
    "import matplotlib.pyplot as plt\n",
    "from matplotlib.offsetbox import OffsetImage, AnnotationBbox\n",
    "from scipy.stats import chisquare\n",
    "from matplotlib.ticker import MaxNLocator\n",
    "\n",
    "# Lock matplotlib for multithreading\n",
    "#plt.switch_backend('Agg')\n",
    "from threading import Lock\n",
    "matplotlib_lock = Lock()\n",
    "\n",
    "STATPATH = r'C:\\Users\\buehl\\repos\\Dice\\dev_app\\static'\n",
    "\n",
    "def place_image(ax, img_path, xy, zoom=1):\n",
    "    img = plt.imread(img_path)\n",
    "    imagebox = OffsetImage(img, zoom=zoom)\n",
    "    ab = AnnotationBbox(imagebox, xy, frameon=True, xybox=(20, -15), boxcoords=\"offset points\", pad=0)\n",
    "    ax.add_artist(ab)\n",
    "\n",
    "def plot_histogram(data_path, column_names=['white', 'red']):\n",
    "    \n",
    "    german_dict= {'white':'Weiss - Gewürfelt', 'red':'Rot - Gewürfelt'}\n",
    "    with matplotlib_lock:\n",
    "        df = pd.read_csv(data_path)\n",
    "        fig, ax = plt.subplots(figsize=(12, 6))  # Adjust the figure size here\n",
    "        \n",
    "        # Set x-axis to integers only\n",
    "        ax.xaxis.set_major_locator(MaxNLocator(integer=True))\n",
    "        \n",
    "        # Plot each column's histogram side by side\n",
    "        bar_width = 0.25\n",
    "        for i, column_name in enumerate(column_names):\n",
    "            rolls = df[column_name].dropna().tolist()\n",
    "            if len(rolls) != 0:\n",
    "                # Calculate observed frequencies and p-value\n",
    "                observed_frequencies = [rolls.count(i) / len(rolls) for i in range(1, 7)]\n",
    "                \n",
    "                # Plot bar chart for observed frequencies\n",
    "                ax.bar([x + i * bar_width for x in range(1, 7)], \n",
    "                       observed_frequencies, \n",
    "                       alpha=0.8, label=german_dict[column_name], width=bar_width,\n",
    "                       edgecolor='black',\n",
    "                       color='red' if column_name == 'red' else 'white')\n",
    "                \n",
    "                # Annotate each bar with the actual count for each outcome\n",
    "                for x, freq in zip(range(1, 7), observed_frequencies):\n",
    "                    ax.text(x + (i * bar_width), freq + 0.0, f'{rolls.count(x)}', ha='center', va='bottom')\n",
    "\n",
    "        # Plot theoretical probabilities (shared between both columns)\n",
    "        theoretical_probs = [1/6] * 6\n",
    "        ax.bar([x + len(column_names) * bar_width for x in range(1, 7)], \n",
    "               theoretical_probs, \n",
    "               alpha=0.5, label=f'Theoretisch', width=bar_width,\n",
    "               color='blue', hatch='//')\n",
    "\n",
    "        # Remove numerical x-tick labels and place images instead\n",
    "        ax.set_xticks([1 + i * bar_width + len(column_names) * bar_width / 2 for i in range(6)])\n",
    "        ax.set_xticklabels([])  # Remove x-tick labels\n",
    "        ax.tick_params(axis='both', which='both', length=0)  # Remove axis ticks\n",
    "\n",
    "        for i in range(1, 7):\n",
    "            place_image(ax, os.path.join(STATPATH, f'side{i}.jpg'), xy=(i, 0), zoom=0.04)\n",
    "            \n",
    "        len_white = len(df['white'].dropna().tolist())\n",
    "        len_red = len(df['red'].dropna().tolist())\n",
    "        \n",
    "        plt.title(f' Anzahl Würfe - Rot: {len_white}, Weiss: {len_red}')\n",
    "        plt.ylabel('Relative Häufigkeit')\n",
    "        plt.legend()\n",
    "        plt.show()\n",
    "        \n",
    "        \n",
    "        # img = BytesIO()\n",
    "        # plt.savefig(img, format='png')\n",
    "        # img.seek(0)\n",
    "        # plt.close()\n",
    "        # return img\n",
    "\n",
    "# Example usage:\n",
    "plot_histogram('results.csv', ['white', 'red'])\n",
    "\n"
   ]
  },
  {
   "cell_type": "code",
   "execution_count": 4,
   "metadata": {},
   "outputs": [
    {
     "data": {
      "text/html": [
       "<div>\n",
       "<style scoped>\n",
       "    .dataframe tbody tr th:only-of-type {\n",
       "        vertical-align: middle;\n",
       "    }\n",
       "\n",
       "    .dataframe tbody tr th {\n",
       "        vertical-align: top;\n",
       "    }\n",
       "\n",
       "    .dataframe thead th {\n",
       "        text-align: right;\n",
       "    }\n",
       "</style>\n",
       "<table border=\"1\" class=\"dataframe\">\n",
       "  <thead>\n",
       "    <tr style=\"text-align: right;\">\n",
       "      <th></th>\n",
       "      <th>throw</th>\n",
       "      <th>white</th>\n",
       "      <th>red</th>\n",
       "    </tr>\n",
       "  </thead>\n",
       "  <tbody>\n",
       "    <tr>\n",
       "      <th>0</th>\n",
       "      <td>1</td>\n",
       "      <td>1</td>\n",
       "      <td>1</td>\n",
       "    </tr>\n",
       "    <tr>\n",
       "      <th>1</th>\n",
       "      <td>2</td>\n",
       "      <td>2</td>\n",
       "      <td>2</td>\n",
       "    </tr>\n",
       "    <tr>\n",
       "      <th>2</th>\n",
       "      <td>3</td>\n",
       "      <td>3</td>\n",
       "      <td>3</td>\n",
       "    </tr>\n",
       "    <tr>\n",
       "      <th>3</th>\n",
       "      <td>4</td>\n",
       "      <td>4</td>\n",
       "      <td>4</td>\n",
       "    </tr>\n",
       "    <tr>\n",
       "      <th>4</th>\n",
       "      <td>5</td>\n",
       "      <td>5</td>\n",
       "      <td>5</td>\n",
       "    </tr>\n",
       "    <tr>\n",
       "      <th>5</th>\n",
       "      <td>6</td>\n",
       "      <td>6</td>\n",
       "      <td>6</td>\n",
       "    </tr>\n",
       "    <tr>\n",
       "      <th>6</th>\n",
       "      <td>7</td>\n",
       "      <td>1</td>\n",
       "      <td>1</td>\n",
       "    </tr>\n",
       "    <tr>\n",
       "      <th>7</th>\n",
       "      <td>8</td>\n",
       "      <td>2</td>\n",
       "      <td>2</td>\n",
       "    </tr>\n",
       "    <tr>\n",
       "      <th>8</th>\n",
       "      <td>9</td>\n",
       "      <td>3</td>\n",
       "      <td>3</td>\n",
       "    </tr>\n",
       "    <tr>\n",
       "      <th>9</th>\n",
       "      <td>10</td>\n",
       "      <td>4</td>\n",
       "      <td>4</td>\n",
       "    </tr>\n",
       "    <tr>\n",
       "      <th>10</th>\n",
       "      <td>11</td>\n",
       "      <td>5</td>\n",
       "      <td>5</td>\n",
       "    </tr>\n",
       "    <tr>\n",
       "      <th>11</th>\n",
       "      <td>12</td>\n",
       "      <td>6</td>\n",
       "      <td>6</td>\n",
       "    </tr>\n",
       "    <tr>\n",
       "      <th>12</th>\n",
       "      <td>13</td>\n",
       "      <td>1</td>\n",
       "      <td>1</td>\n",
       "    </tr>\n",
       "  </tbody>\n",
       "</table>\n",
       "</div>"
      ],
      "text/plain": [
       "    throw  white  red\n",
       "0       1      1    1\n",
       "1       2      2    2\n",
       "2       3      3    3\n",
       "3       4      4    4\n",
       "4       5      5    5\n",
       "5       6      6    6\n",
       "6       7      1    1\n",
       "7       8      2    2\n",
       "8       9      3    3\n",
       "9      10      4    4\n",
       "10     11      5    5\n",
       "11     12      6    6\n",
       "12     13      1    1"
      ]
     },
     "execution_count": 4,
     "metadata": {},
     "output_type": "execute_result"
    }
   ],
   "source": []
  },
  {
   "cell_type": "markdown",
   "metadata": {},
   "source": [
    "## Recoridng mechanism for frameloop"
   ]
  },
  {
   "cell_type": "code",
   "execution_count": 460,
   "metadata": {},
   "outputs": [],
   "source": [
    "import random\n",
    "\n",
    "def dummy_dice_pred():\n",
    "    '''dummy fucniton to simulate model'''\n",
    "    dice_dict = {\"white\": [], \"red\": []}\n",
    "    for color in dice_dict:\n",
    "        num_numbers = random.randint(1, 6) #random.randint(0, 5)  # Randomly select the number of numbers to add\n",
    "        if color == \"red\":\n",
    "            numbers = [random.randint(1,3) for _ in range(num_numbers)]  # Generate random numbers\n",
    "        else:\n",
    "            numbers = [random.randint(1, 6) for _ in range(num_numbers)]  # Generate random numbers\n",
    "        dice_dict[color] = numbers\n",
    "    return dice_dict , True\n",
    "\n",
    "\n",
    "\n",
    "\n",
    "def append_to_csv(filepath, new_df):\n",
    "    existing_df = pd.read_csv(filepath)\n",
    "    updated_df = pd.concat([existing_df, new_df], ignore_index=True)\n",
    "    updated_df.to_csv(filepath, index=False)\n",
    "\n",
    "def check_empty_dice_results(filepath):\n",
    "    df = pd.read_csv(filepath)\n",
    "    if df.empty:\n",
    "        return True\n",
    "    else:\n",
    "        return False\n",
    "\n",
    "def create_dataframe_fillNA(data:dict):\n",
    "    ''' Create a DataFrame from a dictionary and fill missing values with NaN'''\n",
    "    max_length = max(len(values) for values in data.values())\n",
    "    for key, values in data.items():\n",
    "        data[key] = values + [None] * (max_length - len(values))\n",
    "    return pd.DataFrame(data)\n",
    "\n",
    "\n",
    "def write_result(dice_prediction, filepath='results/results.csv'):\n",
    "    dice_dict, dice_pass = dice_prediction\n",
    "    \n",
    "    if not dice_pass:\n",
    "        dice_msg=\"Vorhersage fehlerhaft, Bitte nochmals versuchen!\"\n",
    "\n",
    "    else:\n",
    "        if check_empty_dice_results(filepath):\n",
    "            throw_number=0\n",
    "        else:\n",
    "            df = pd.read_csv(filepath)\n",
    "            throw_number=df['throw'].iloc[-1]\n",
    "            \n",
    "        throw_number += 1\n",
    "        dice_dict_NA=create_dataframe_fillNA(dice_dict)\n",
    "        dice_dict_NA['throw'] = [throw_number] * len(dice_dict['white'])\n",
    "        append_to_csv(filepath, dice_dict_NA)\n",
    "        dice_msg=convert_output(dice_dict)\n",
    "        \n",
    "    return dice_msg \n",
    "\n",
    "def convert_output(dice_dict):\n",
    "    color_mapping = {\n",
    "        \"white\": \"WEISS\",\n",
    "        \"red\": \"ROT\"\n",
    "    }\n",
    "    output = \"\"\n",
    "    for color, values in dice_dict.items():\n",
    "        if values:\n",
    "            values = [val for val in values if val is not None]\n",
    "            if values:\n",
    "                german_color = color_mapping.get(color, color.upper())\n",
    "                output += f\"{german_color} : {values}, \"\n",
    "    return output.strip(\", \")\n"
   ]
  },
  {
   "cell_type": "code",
   "execution_count": 492,
   "metadata": {},
   "outputs": [
    {
     "name": "stdout",
     "output_type": "stream",
     "text": [
      "     throw  white  red\n",
      "0        1    1.0  1.0\n",
      "1        2    2.0  2.0\n",
      "2        3    3.0  3.0\n",
      "3        4    4.0  4.0\n",
      "4        5    5.0  5.0\n",
      "..     ...    ...  ...\n",
      "179     54    4.0  NaN\n",
      "180     54    4.0  NaN\n",
      "181     54    2.0  NaN\n",
      "182     54    6.0  NaN\n",
      "183     54    2.0  NaN\n",
      "\n",
      "[184 rows x 3 columns]\n",
      "({'white': [3, 5, 4], 'red': [3, 3, 3, 2, 2, 1]}, True)\n",
      "     throw  white  red\n",
      "0        1    1.0  1.0\n",
      "1        2    2.0  2.0\n",
      "2        3    3.0  3.0\n",
      "3        4    4.0  4.0\n",
      "4        5    5.0  5.0\n",
      "..     ...    ...  ...\n",
      "185     55    5.0  3.0\n",
      "186     55    4.0  3.0\n",
      "187     55    NaN  2.0\n",
      "188     55    NaN  2.0\n",
      "189     55    NaN  1.0\n",
      "\n",
      "[190 rows x 3 columns]\n",
      "0.01900339126586914\n"
     ]
    }
   ],
   "source": [
    "start=time.time()\n",
    "df = pd.read_csv('results.csv')\n",
    "print(df)\n",
    "prediciton=dummy_dice_pred()\n",
    "print(prediciton)\n",
    "\n",
    "write_result(prediciton, filepath='results.csv')\n",
    "df = pd.read_csv('results.csv')\n",
    "print(df)\n",
    "\n",
    "end = time.time() -start\n",
    "print(end)"
   ]
  },
  {
   "cell_type": "markdown",
   "metadata": {},
   "source": [
    "## with go "
   ]
  },
  {
   "cell_type": "code",
   "execution_count": 1,
   "metadata": {},
   "outputs": [
    {
     "data": {
      "application/vnd.plotly.v1+json": {
       "config": {
        "plotlyServerURL": "https://plot.ly"
       },
       "data": [
        {
         "marker": {
          "color": "#0165A8"
         },
         "name": "Theoretisch",
         "type": "bar",
         "x": [
          1,
          2,
          3,
          4,
          5,
          6
         ],
         "y": [
          0.16666666666666666,
          0.16666666666666666,
          0.16666666666666666,
          0.16666666666666666,
          0.16666666666666666,
          0.16666666666666666
         ]
        },
        {
         "marker": {
          "color": "white",
          "line": {
           "color": "black"
          }
         },
         "name": "Gewürfelt",
         "type": "bar",
         "x": [
          1,
          2,
          3,
          4,
          5,
          6
         ],
         "y": [
          0,
          1,
          0,
          0,
          0,
          0
         ]
        }
       ],
       "layout": {
        "barmode": "group",
        "legend": {
         "x": 0.7,
         "y": 1
        },
        "template": {
         "data": {
          "bar": [
           {
            "error_x": {
             "color": "#2a3f5f"
            },
            "error_y": {
             "color": "#2a3f5f"
            },
            "marker": {
             "line": {
              "color": "#E5ECF6",
              "width": 0.5
             },
             "pattern": {
              "fillmode": "overlay",
              "size": 10,
              "solidity": 0.2
             }
            },
            "type": "bar"
           }
          ],
          "barpolar": [
           {
            "marker": {
             "line": {
              "color": "#E5ECF6",
              "width": 0.5
             },
             "pattern": {
              "fillmode": "overlay",
              "size": 10,
              "solidity": 0.2
             }
            },
            "type": "barpolar"
           }
          ],
          "carpet": [
           {
            "aaxis": {
             "endlinecolor": "#2a3f5f",
             "gridcolor": "white",
             "linecolor": "white",
             "minorgridcolor": "white",
             "startlinecolor": "#2a3f5f"
            },
            "baxis": {
             "endlinecolor": "#2a3f5f",
             "gridcolor": "white",
             "linecolor": "white",
             "minorgridcolor": "white",
             "startlinecolor": "#2a3f5f"
            },
            "type": "carpet"
           }
          ],
          "choropleth": [
           {
            "colorbar": {
             "outlinewidth": 0,
             "ticks": ""
            },
            "type": "choropleth"
           }
          ],
          "contour": [
           {
            "colorbar": {
             "outlinewidth": 0,
             "ticks": ""
            },
            "colorscale": [
             [
              0,
              "#0d0887"
             ],
             [
              0.1111111111111111,
              "#46039f"
             ],
             [
              0.2222222222222222,
              "#7201a8"
             ],
             [
              0.3333333333333333,
              "#9c179e"
             ],
             [
              0.4444444444444444,
              "#bd3786"
             ],
             [
              0.5555555555555556,
              "#d8576b"
             ],
             [
              0.6666666666666666,
              "#ed7953"
             ],
             [
              0.7777777777777778,
              "#fb9f3a"
             ],
             [
              0.8888888888888888,
              "#fdca26"
             ],
             [
              1,
              "#f0f921"
             ]
            ],
            "type": "contour"
           }
          ],
          "contourcarpet": [
           {
            "colorbar": {
             "outlinewidth": 0,
             "ticks": ""
            },
            "type": "contourcarpet"
           }
          ],
          "heatmap": [
           {
            "colorbar": {
             "outlinewidth": 0,
             "ticks": ""
            },
            "colorscale": [
             [
              0,
              "#0d0887"
             ],
             [
              0.1111111111111111,
              "#46039f"
             ],
             [
              0.2222222222222222,
              "#7201a8"
             ],
             [
              0.3333333333333333,
              "#9c179e"
             ],
             [
              0.4444444444444444,
              "#bd3786"
             ],
             [
              0.5555555555555556,
              "#d8576b"
             ],
             [
              0.6666666666666666,
              "#ed7953"
             ],
             [
              0.7777777777777778,
              "#fb9f3a"
             ],
             [
              0.8888888888888888,
              "#fdca26"
             ],
             [
              1,
              "#f0f921"
             ]
            ],
            "type": "heatmap"
           }
          ],
          "heatmapgl": [
           {
            "colorbar": {
             "outlinewidth": 0,
             "ticks": ""
            },
            "colorscale": [
             [
              0,
              "#0d0887"
             ],
             [
              0.1111111111111111,
              "#46039f"
             ],
             [
              0.2222222222222222,
              "#7201a8"
             ],
             [
              0.3333333333333333,
              "#9c179e"
             ],
             [
              0.4444444444444444,
              "#bd3786"
             ],
             [
              0.5555555555555556,
              "#d8576b"
             ],
             [
              0.6666666666666666,
              "#ed7953"
             ],
             [
              0.7777777777777778,
              "#fb9f3a"
             ],
             [
              0.8888888888888888,
              "#fdca26"
             ],
             [
              1,
              "#f0f921"
             ]
            ],
            "type": "heatmapgl"
           }
          ],
          "histogram": [
           {
            "marker": {
             "pattern": {
              "fillmode": "overlay",
              "size": 10,
              "solidity": 0.2
             }
            },
            "type": "histogram"
           }
          ],
          "histogram2d": [
           {
            "colorbar": {
             "outlinewidth": 0,
             "ticks": ""
            },
            "colorscale": [
             [
              0,
              "#0d0887"
             ],
             [
              0.1111111111111111,
              "#46039f"
             ],
             [
              0.2222222222222222,
              "#7201a8"
             ],
             [
              0.3333333333333333,
              "#9c179e"
             ],
             [
              0.4444444444444444,
              "#bd3786"
             ],
             [
              0.5555555555555556,
              "#d8576b"
             ],
             [
              0.6666666666666666,
              "#ed7953"
             ],
             [
              0.7777777777777778,
              "#fb9f3a"
             ],
             [
              0.8888888888888888,
              "#fdca26"
             ],
             [
              1,
              "#f0f921"
             ]
            ],
            "type": "histogram2d"
           }
          ],
          "histogram2dcontour": [
           {
            "colorbar": {
             "outlinewidth": 0,
             "ticks": ""
            },
            "colorscale": [
             [
              0,
              "#0d0887"
             ],
             [
              0.1111111111111111,
              "#46039f"
             ],
             [
              0.2222222222222222,
              "#7201a8"
             ],
             [
              0.3333333333333333,
              "#9c179e"
             ],
             [
              0.4444444444444444,
              "#bd3786"
             ],
             [
              0.5555555555555556,
              "#d8576b"
             ],
             [
              0.6666666666666666,
              "#ed7953"
             ],
             [
              0.7777777777777778,
              "#fb9f3a"
             ],
             [
              0.8888888888888888,
              "#fdca26"
             ],
             [
              1,
              "#f0f921"
             ]
            ],
            "type": "histogram2dcontour"
           }
          ],
          "mesh3d": [
           {
            "colorbar": {
             "outlinewidth": 0,
             "ticks": ""
            },
            "type": "mesh3d"
           }
          ],
          "parcoords": [
           {
            "line": {
             "colorbar": {
              "outlinewidth": 0,
              "ticks": ""
             }
            },
            "type": "parcoords"
           }
          ],
          "pie": [
           {
            "automargin": true,
            "type": "pie"
           }
          ],
          "scatter": [
           {
            "fillpattern": {
             "fillmode": "overlay",
             "size": 10,
             "solidity": 0.2
            },
            "type": "scatter"
           }
          ],
          "scatter3d": [
           {
            "line": {
             "colorbar": {
              "outlinewidth": 0,
              "ticks": ""
             }
            },
            "marker": {
             "colorbar": {
              "outlinewidth": 0,
              "ticks": ""
             }
            },
            "type": "scatter3d"
           }
          ],
          "scattercarpet": [
           {
            "marker": {
             "colorbar": {
              "outlinewidth": 0,
              "ticks": ""
             }
            },
            "type": "scattercarpet"
           }
          ],
          "scattergeo": [
           {
            "marker": {
             "colorbar": {
              "outlinewidth": 0,
              "ticks": ""
             }
            },
            "type": "scattergeo"
           }
          ],
          "scattergl": [
           {
            "marker": {
             "colorbar": {
              "outlinewidth": 0,
              "ticks": ""
             }
            },
            "type": "scattergl"
           }
          ],
          "scattermapbox": [
           {
            "marker": {
             "colorbar": {
              "outlinewidth": 0,
              "ticks": ""
             }
            },
            "type": "scattermapbox"
           }
          ],
          "scatterpolar": [
           {
            "marker": {
             "colorbar": {
              "outlinewidth": 0,
              "ticks": ""
             }
            },
            "type": "scatterpolar"
           }
          ],
          "scatterpolargl": [
           {
            "marker": {
             "colorbar": {
              "outlinewidth": 0,
              "ticks": ""
             }
            },
            "type": "scatterpolargl"
           }
          ],
          "scatterternary": [
           {
            "marker": {
             "colorbar": {
              "outlinewidth": 0,
              "ticks": ""
             }
            },
            "type": "scatterternary"
           }
          ],
          "surface": [
           {
            "colorbar": {
             "outlinewidth": 0,
             "ticks": ""
            },
            "colorscale": [
             [
              0,
              "#0d0887"
             ],
             [
              0.1111111111111111,
              "#46039f"
             ],
             [
              0.2222222222222222,
              "#7201a8"
             ],
             [
              0.3333333333333333,
              "#9c179e"
             ],
             [
              0.4444444444444444,
              "#bd3786"
             ],
             [
              0.5555555555555556,
              "#d8576b"
             ],
             [
              0.6666666666666666,
              "#ed7953"
             ],
             [
              0.7777777777777778,
              "#fb9f3a"
             ],
             [
              0.8888888888888888,
              "#fdca26"
             ],
             [
              1,
              "#f0f921"
             ]
            ],
            "type": "surface"
           }
          ],
          "table": [
           {
            "cells": {
             "fill": {
              "color": "#EBF0F8"
             },
             "line": {
              "color": "white"
             }
            },
            "header": {
             "fill": {
              "color": "#C8D4E3"
             },
             "line": {
              "color": "white"
             }
            },
            "type": "table"
           }
          ]
         },
         "layout": {
          "annotationdefaults": {
           "arrowcolor": "#2a3f5f",
           "arrowhead": 0,
           "arrowwidth": 1
          },
          "autotypenumbers": "strict",
          "coloraxis": {
           "colorbar": {
            "outlinewidth": 0,
            "ticks": ""
           }
          },
          "colorscale": {
           "diverging": [
            [
             0,
             "#8e0152"
            ],
            [
             0.1,
             "#c51b7d"
            ],
            [
             0.2,
             "#de77ae"
            ],
            [
             0.3,
             "#f1b6da"
            ],
            [
             0.4,
             "#fde0ef"
            ],
            [
             0.5,
             "#f7f7f7"
            ],
            [
             0.6,
             "#e6f5d0"
            ],
            [
             0.7,
             "#b8e186"
            ],
            [
             0.8,
             "#7fbc41"
            ],
            [
             0.9,
             "#4d9221"
            ],
            [
             1,
             "#276419"
            ]
           ],
           "sequential": [
            [
             0,
             "#0d0887"
            ],
            [
             0.1111111111111111,
             "#46039f"
            ],
            [
             0.2222222222222222,
             "#7201a8"
            ],
            [
             0.3333333333333333,
             "#9c179e"
            ],
            [
             0.4444444444444444,
             "#bd3786"
            ],
            [
             0.5555555555555556,
             "#d8576b"
            ],
            [
             0.6666666666666666,
             "#ed7953"
            ],
            [
             0.7777777777777778,
             "#fb9f3a"
            ],
            [
             0.8888888888888888,
             "#fdca26"
            ],
            [
             1,
             "#f0f921"
            ]
           ],
           "sequentialminus": [
            [
             0,
             "#0d0887"
            ],
            [
             0.1111111111111111,
             "#46039f"
            ],
            [
             0.2222222222222222,
             "#7201a8"
            ],
            [
             0.3333333333333333,
             "#9c179e"
            ],
            [
             0.4444444444444444,
             "#bd3786"
            ],
            [
             0.5555555555555556,
             "#d8576b"
            ],
            [
             0.6666666666666666,
             "#ed7953"
            ],
            [
             0.7777777777777778,
             "#fb9f3a"
            ],
            [
             0.8888888888888888,
             "#fdca26"
            ],
            [
             1,
             "#f0f921"
            ]
           ]
          },
          "colorway": [
           "#636efa",
           "#EF553B",
           "#00cc96",
           "#ab63fa",
           "#FFA15A",
           "#19d3f3",
           "#FF6692",
           "#B6E880",
           "#FF97FF",
           "#FECB52"
          ],
          "font": {
           "color": "#2a3f5f"
          },
          "geo": {
           "bgcolor": "white",
           "lakecolor": "white",
           "landcolor": "#E5ECF6",
           "showlakes": true,
           "showland": true,
           "subunitcolor": "white"
          },
          "hoverlabel": {
           "align": "left"
          },
          "hovermode": "closest",
          "mapbox": {
           "style": "light"
          },
          "paper_bgcolor": "white",
          "plot_bgcolor": "#E5ECF6",
          "polar": {
           "angularaxis": {
            "gridcolor": "white",
            "linecolor": "white",
            "ticks": ""
           },
           "bgcolor": "#E5ECF6",
           "radialaxis": {
            "gridcolor": "white",
            "linecolor": "white",
            "ticks": ""
           }
          },
          "scene": {
           "xaxis": {
            "backgroundcolor": "#E5ECF6",
            "gridcolor": "white",
            "gridwidth": 2,
            "linecolor": "white",
            "showbackground": true,
            "ticks": "",
            "zerolinecolor": "white"
           },
           "yaxis": {
            "backgroundcolor": "#E5ECF6",
            "gridcolor": "white",
            "gridwidth": 2,
            "linecolor": "white",
            "showbackground": true,
            "ticks": "",
            "zerolinecolor": "white"
           },
           "zaxis": {
            "backgroundcolor": "#E5ECF6",
            "gridcolor": "white",
            "gridwidth": 2,
            "linecolor": "white",
            "showbackground": true,
            "ticks": "",
            "zerolinecolor": "white"
           }
          },
          "shapedefaults": {
           "line": {
            "color": "#2a3f5f"
           }
          },
          "ternary": {
           "aaxis": {
            "gridcolor": "white",
            "linecolor": "white",
            "ticks": ""
           },
           "baxis": {
            "gridcolor": "white",
            "linecolor": "white",
            "ticks": ""
           },
           "bgcolor": "#E5ECF6",
           "caxis": {
            "gridcolor": "white",
            "linecolor": "white",
            "ticks": ""
           }
          },
          "title": {
           "x": 0.05
          },
          "xaxis": {
           "automargin": true,
           "gridcolor": "white",
           "linecolor": "white",
           "ticks": "",
           "title": {
            "standoff": 15
           },
           "zerolinecolor": "white",
           "zerolinewidth": 2
          },
          "yaxis": {
           "automargin": true,
           "gridcolor": "white",
           "linecolor": "white",
           "ticks": "",
           "title": {
            "standoff": 15
           },
           "zerolinecolor": "white",
           "zerolinewidth": 2
          }
         }
        },
        "title": {
         "text": "Häufigkeiten von Würfelergebnissen, Anzahl Würfe: 1 p= 0.416"
        },
        "xaxis": {
         "title": {
          "text": "Würfel Augen"
         }
        },
        "yaxis": {
         "title": {
          "text": "Relative Häufigkeit"
         }
        }
       }
      }
     },
     "metadata": {},
     "output_type": "display_data"
    },
    {
     "data": {
      "application/vnd.plotly.v1+json": {
       "config": {
        "plotlyServerURL": "https://plot.ly"
       },
       "data": [
        {
         "marker": {
          "color": "#0165A8"
         },
         "name": "Theoretisch",
         "type": "bar",
         "x": [
          1,
          2,
          3,
          4,
          5,
          6
         ],
         "y": [
          0.16666666666666666,
          0.16666666666666666,
          0.16666666666666666,
          0.16666666666666666,
          0.16666666666666666,
          0.16666666666666666
         ]
        },
        {
         "marker": {
          "color": "red"
         },
         "name": "Gewürfelt",
         "type": "bar",
         "x": [
          1,
          2,
          3,
          4,
          5,
          6
         ],
         "y": [
          0,
          0,
          1,
          0,
          0,
          0
         ]
        }
       ],
       "layout": {
        "barmode": "group",
        "legend": {
         "x": 0.7,
         "y": 1
        },
        "template": {
         "data": {
          "bar": [
           {
            "error_x": {
             "color": "#2a3f5f"
            },
            "error_y": {
             "color": "#2a3f5f"
            },
            "marker": {
             "line": {
              "color": "#E5ECF6",
              "width": 0.5
             },
             "pattern": {
              "fillmode": "overlay",
              "size": 10,
              "solidity": 0.2
             }
            },
            "type": "bar"
           }
          ],
          "barpolar": [
           {
            "marker": {
             "line": {
              "color": "#E5ECF6",
              "width": 0.5
             },
             "pattern": {
              "fillmode": "overlay",
              "size": 10,
              "solidity": 0.2
             }
            },
            "type": "barpolar"
           }
          ],
          "carpet": [
           {
            "aaxis": {
             "endlinecolor": "#2a3f5f",
             "gridcolor": "white",
             "linecolor": "white",
             "minorgridcolor": "white",
             "startlinecolor": "#2a3f5f"
            },
            "baxis": {
             "endlinecolor": "#2a3f5f",
             "gridcolor": "white",
             "linecolor": "white",
             "minorgridcolor": "white",
             "startlinecolor": "#2a3f5f"
            },
            "type": "carpet"
           }
          ],
          "choropleth": [
           {
            "colorbar": {
             "outlinewidth": 0,
             "ticks": ""
            },
            "type": "choropleth"
           }
          ],
          "contour": [
           {
            "colorbar": {
             "outlinewidth": 0,
             "ticks": ""
            },
            "colorscale": [
             [
              0,
              "#0d0887"
             ],
             [
              0.1111111111111111,
              "#46039f"
             ],
             [
              0.2222222222222222,
              "#7201a8"
             ],
             [
              0.3333333333333333,
              "#9c179e"
             ],
             [
              0.4444444444444444,
              "#bd3786"
             ],
             [
              0.5555555555555556,
              "#d8576b"
             ],
             [
              0.6666666666666666,
              "#ed7953"
             ],
             [
              0.7777777777777778,
              "#fb9f3a"
             ],
             [
              0.8888888888888888,
              "#fdca26"
             ],
             [
              1,
              "#f0f921"
             ]
            ],
            "type": "contour"
           }
          ],
          "contourcarpet": [
           {
            "colorbar": {
             "outlinewidth": 0,
             "ticks": ""
            },
            "type": "contourcarpet"
           }
          ],
          "heatmap": [
           {
            "colorbar": {
             "outlinewidth": 0,
             "ticks": ""
            },
            "colorscale": [
             [
              0,
              "#0d0887"
             ],
             [
              0.1111111111111111,
              "#46039f"
             ],
             [
              0.2222222222222222,
              "#7201a8"
             ],
             [
              0.3333333333333333,
              "#9c179e"
             ],
             [
              0.4444444444444444,
              "#bd3786"
             ],
             [
              0.5555555555555556,
              "#d8576b"
             ],
             [
              0.6666666666666666,
              "#ed7953"
             ],
             [
              0.7777777777777778,
              "#fb9f3a"
             ],
             [
              0.8888888888888888,
              "#fdca26"
             ],
             [
              1,
              "#f0f921"
             ]
            ],
            "type": "heatmap"
           }
          ],
          "heatmapgl": [
           {
            "colorbar": {
             "outlinewidth": 0,
             "ticks": ""
            },
            "colorscale": [
             [
              0,
              "#0d0887"
             ],
             [
              0.1111111111111111,
              "#46039f"
             ],
             [
              0.2222222222222222,
              "#7201a8"
             ],
             [
              0.3333333333333333,
              "#9c179e"
             ],
             [
              0.4444444444444444,
              "#bd3786"
             ],
             [
              0.5555555555555556,
              "#d8576b"
             ],
             [
              0.6666666666666666,
              "#ed7953"
             ],
             [
              0.7777777777777778,
              "#fb9f3a"
             ],
             [
              0.8888888888888888,
              "#fdca26"
             ],
             [
              1,
              "#f0f921"
             ]
            ],
            "type": "heatmapgl"
           }
          ],
          "histogram": [
           {
            "marker": {
             "pattern": {
              "fillmode": "overlay",
              "size": 10,
              "solidity": 0.2
             }
            },
            "type": "histogram"
           }
          ],
          "histogram2d": [
           {
            "colorbar": {
             "outlinewidth": 0,
             "ticks": ""
            },
            "colorscale": [
             [
              0,
              "#0d0887"
             ],
             [
              0.1111111111111111,
              "#46039f"
             ],
             [
              0.2222222222222222,
              "#7201a8"
             ],
             [
              0.3333333333333333,
              "#9c179e"
             ],
             [
              0.4444444444444444,
              "#bd3786"
             ],
             [
              0.5555555555555556,
              "#d8576b"
             ],
             [
              0.6666666666666666,
              "#ed7953"
             ],
             [
              0.7777777777777778,
              "#fb9f3a"
             ],
             [
              0.8888888888888888,
              "#fdca26"
             ],
             [
              1,
              "#f0f921"
             ]
            ],
            "type": "histogram2d"
           }
          ],
          "histogram2dcontour": [
           {
            "colorbar": {
             "outlinewidth": 0,
             "ticks": ""
            },
            "colorscale": [
             [
              0,
              "#0d0887"
             ],
             [
              0.1111111111111111,
              "#46039f"
             ],
             [
              0.2222222222222222,
              "#7201a8"
             ],
             [
              0.3333333333333333,
              "#9c179e"
             ],
             [
              0.4444444444444444,
              "#bd3786"
             ],
             [
              0.5555555555555556,
              "#d8576b"
             ],
             [
              0.6666666666666666,
              "#ed7953"
             ],
             [
              0.7777777777777778,
              "#fb9f3a"
             ],
             [
              0.8888888888888888,
              "#fdca26"
             ],
             [
              1,
              "#f0f921"
             ]
            ],
            "type": "histogram2dcontour"
           }
          ],
          "mesh3d": [
           {
            "colorbar": {
             "outlinewidth": 0,
             "ticks": ""
            },
            "type": "mesh3d"
           }
          ],
          "parcoords": [
           {
            "line": {
             "colorbar": {
              "outlinewidth": 0,
              "ticks": ""
             }
            },
            "type": "parcoords"
           }
          ],
          "pie": [
           {
            "automargin": true,
            "type": "pie"
           }
          ],
          "scatter": [
           {
            "fillpattern": {
             "fillmode": "overlay",
             "size": 10,
             "solidity": 0.2
            },
            "type": "scatter"
           }
          ],
          "scatter3d": [
           {
            "line": {
             "colorbar": {
              "outlinewidth": 0,
              "ticks": ""
             }
            },
            "marker": {
             "colorbar": {
              "outlinewidth": 0,
              "ticks": ""
             }
            },
            "type": "scatter3d"
           }
          ],
          "scattercarpet": [
           {
            "marker": {
             "colorbar": {
              "outlinewidth": 0,
              "ticks": ""
             }
            },
            "type": "scattercarpet"
           }
          ],
          "scattergeo": [
           {
            "marker": {
             "colorbar": {
              "outlinewidth": 0,
              "ticks": ""
             }
            },
            "type": "scattergeo"
           }
          ],
          "scattergl": [
           {
            "marker": {
             "colorbar": {
              "outlinewidth": 0,
              "ticks": ""
             }
            },
            "type": "scattergl"
           }
          ],
          "scattermapbox": [
           {
            "marker": {
             "colorbar": {
              "outlinewidth": 0,
              "ticks": ""
             }
            },
            "type": "scattermapbox"
           }
          ],
          "scatterpolar": [
           {
            "marker": {
             "colorbar": {
              "outlinewidth": 0,
              "ticks": ""
             }
            },
            "type": "scatterpolar"
           }
          ],
          "scatterpolargl": [
           {
            "marker": {
             "colorbar": {
              "outlinewidth": 0,
              "ticks": ""
             }
            },
            "type": "scatterpolargl"
           }
          ],
          "scatterternary": [
           {
            "marker": {
             "colorbar": {
              "outlinewidth": 0,
              "ticks": ""
             }
            },
            "type": "scatterternary"
           }
          ],
          "surface": [
           {
            "colorbar": {
             "outlinewidth": 0,
             "ticks": ""
            },
            "colorscale": [
             [
              0,
              "#0d0887"
             ],
             [
              0.1111111111111111,
              "#46039f"
             ],
             [
              0.2222222222222222,
              "#7201a8"
             ],
             [
              0.3333333333333333,
              "#9c179e"
             ],
             [
              0.4444444444444444,
              "#bd3786"
             ],
             [
              0.5555555555555556,
              "#d8576b"
             ],
             [
              0.6666666666666666,
              "#ed7953"
             ],
             [
              0.7777777777777778,
              "#fb9f3a"
             ],
             [
              0.8888888888888888,
              "#fdca26"
             ],
             [
              1,
              "#f0f921"
             ]
            ],
            "type": "surface"
           }
          ],
          "table": [
           {
            "cells": {
             "fill": {
              "color": "#EBF0F8"
             },
             "line": {
              "color": "white"
             }
            },
            "header": {
             "fill": {
              "color": "#C8D4E3"
             },
             "line": {
              "color": "white"
             }
            },
            "type": "table"
           }
          ]
         },
         "layout": {
          "annotationdefaults": {
           "arrowcolor": "#2a3f5f",
           "arrowhead": 0,
           "arrowwidth": 1
          },
          "autotypenumbers": "strict",
          "coloraxis": {
           "colorbar": {
            "outlinewidth": 0,
            "ticks": ""
           }
          },
          "colorscale": {
           "diverging": [
            [
             0,
             "#8e0152"
            ],
            [
             0.1,
             "#c51b7d"
            ],
            [
             0.2,
             "#de77ae"
            ],
            [
             0.3,
             "#f1b6da"
            ],
            [
             0.4,
             "#fde0ef"
            ],
            [
             0.5,
             "#f7f7f7"
            ],
            [
             0.6,
             "#e6f5d0"
            ],
            [
             0.7,
             "#b8e186"
            ],
            [
             0.8,
             "#7fbc41"
            ],
            [
             0.9,
             "#4d9221"
            ],
            [
             1,
             "#276419"
            ]
           ],
           "sequential": [
            [
             0,
             "#0d0887"
            ],
            [
             0.1111111111111111,
             "#46039f"
            ],
            [
             0.2222222222222222,
             "#7201a8"
            ],
            [
             0.3333333333333333,
             "#9c179e"
            ],
            [
             0.4444444444444444,
             "#bd3786"
            ],
            [
             0.5555555555555556,
             "#d8576b"
            ],
            [
             0.6666666666666666,
             "#ed7953"
            ],
            [
             0.7777777777777778,
             "#fb9f3a"
            ],
            [
             0.8888888888888888,
             "#fdca26"
            ],
            [
             1,
             "#f0f921"
            ]
           ],
           "sequentialminus": [
            [
             0,
             "#0d0887"
            ],
            [
             0.1111111111111111,
             "#46039f"
            ],
            [
             0.2222222222222222,
             "#7201a8"
            ],
            [
             0.3333333333333333,
             "#9c179e"
            ],
            [
             0.4444444444444444,
             "#bd3786"
            ],
            [
             0.5555555555555556,
             "#d8576b"
            ],
            [
             0.6666666666666666,
             "#ed7953"
            ],
            [
             0.7777777777777778,
             "#fb9f3a"
            ],
            [
             0.8888888888888888,
             "#fdca26"
            ],
            [
             1,
             "#f0f921"
            ]
           ]
          },
          "colorway": [
           "#636efa",
           "#EF553B",
           "#00cc96",
           "#ab63fa",
           "#FFA15A",
           "#19d3f3",
           "#FF6692",
           "#B6E880",
           "#FF97FF",
           "#FECB52"
          ],
          "font": {
           "color": "#2a3f5f"
          },
          "geo": {
           "bgcolor": "white",
           "lakecolor": "white",
           "landcolor": "#E5ECF6",
           "showlakes": true,
           "showland": true,
           "subunitcolor": "white"
          },
          "hoverlabel": {
           "align": "left"
          },
          "hovermode": "closest",
          "mapbox": {
           "style": "light"
          },
          "paper_bgcolor": "white",
          "plot_bgcolor": "#E5ECF6",
          "polar": {
           "angularaxis": {
            "gridcolor": "white",
            "linecolor": "white",
            "ticks": ""
           },
           "bgcolor": "#E5ECF6",
           "radialaxis": {
            "gridcolor": "white",
            "linecolor": "white",
            "ticks": ""
           }
          },
          "scene": {
           "xaxis": {
            "backgroundcolor": "#E5ECF6",
            "gridcolor": "white",
            "gridwidth": 2,
            "linecolor": "white",
            "showbackground": true,
            "ticks": "",
            "zerolinecolor": "white"
           },
           "yaxis": {
            "backgroundcolor": "#E5ECF6",
            "gridcolor": "white",
            "gridwidth": 2,
            "linecolor": "white",
            "showbackground": true,
            "ticks": "",
            "zerolinecolor": "white"
           },
           "zaxis": {
            "backgroundcolor": "#E5ECF6",
            "gridcolor": "white",
            "gridwidth": 2,
            "linecolor": "white",
            "showbackground": true,
            "ticks": "",
            "zerolinecolor": "white"
           }
          },
          "shapedefaults": {
           "line": {
            "color": "#2a3f5f"
           }
          },
          "ternary": {
           "aaxis": {
            "gridcolor": "white",
            "linecolor": "white",
            "ticks": ""
           },
           "baxis": {
            "gridcolor": "white",
            "linecolor": "white",
            "ticks": ""
           },
           "bgcolor": "#E5ECF6",
           "caxis": {
            "gridcolor": "white",
            "linecolor": "white",
            "ticks": ""
           }
          },
          "title": {
           "x": 0.05
          },
          "xaxis": {
           "automargin": true,
           "gridcolor": "white",
           "linecolor": "white",
           "ticks": "",
           "title": {
            "standoff": 15
           },
           "zerolinecolor": "white",
           "zerolinewidth": 2
          },
          "yaxis": {
           "automargin": true,
           "gridcolor": "white",
           "linecolor": "white",
           "ticks": "",
           "title": {
            "standoff": 15
           },
           "zerolinecolor": "white",
           "zerolinewidth": 2
          }
         }
        },
        "title": {
         "text": "Häufigkeiten von Würfelergebnissen, Anzahl Würfe: 1 p= 0.416"
        },
        "xaxis": {
         "title": {
          "text": "Würfel Augen"
         }
        },
        "yaxis": {
         "title": {
          "text": "Relative Häufigkeit"
         }
        }
       }
      }
     },
     "metadata": {},
     "output_type": "display_data"
    }
   ],
   "source": [
    "import pandas as pd\n",
    "import numpy as np\n",
    "import plotly.graph_objects as go\n",
    "from scipy.stats import chisquare\n",
    "from io import BytesIO\n",
    "\n",
    "def plot_histogram(df, column_name):\n",
    "    rolls = df[column_name].dropna()\n",
    "    observed_frequencies = [rolls.tolist().count(i) for i in range(1, 7)]\n",
    "    expected_frequencies = [len(rolls) / 6] * 6\n",
    "\n",
    "    p_value = 0\n",
    "    if len(rolls) != 0:\n",
    "        chi_squared_stat, p_value = chisquare(observed_frequencies, f_exp=expected_frequencies)\n",
    "\n",
    "    # Create the plot\n",
    "    fig = go.Figure()\n",
    "\n",
    "    # Plotting the bar charts\n",
    "    fig.add_trace(go.Bar(x=np.arange(1, 7), y=[1/6]*6, name='Theoretisch', marker_color='#0165A8'))\n",
    "\n",
    "    if len(rolls) != 0 and column_name == 'red':\n",
    "        fig.add_trace(go.Bar(x=np.arange(1, 7), y=observed_frequencies/np.sum(observed_frequencies),\n",
    "                             name='Gewürfelt', marker_color='red'))\n",
    "    elif len(rolls) != 0 and column_name == 'white':\n",
    "        fig.add_trace(go.Bar(x=np.arange(1, 7), y=observed_frequencies/np.sum(observed_frequencies),\n",
    "                             name='Gewürfelt', marker_color='white', marker_line_color='black'))\n",
    "\n",
    "    # Update x-axis and y-axis labels\n",
    "    fig.update_xaxes(title_text='Würfel Augen')\n",
    "    fig.update_yaxes(title_text='Relative Häufigkeit')\n",
    "\n",
    "    # Set title\n",
    "    fig.update_layout(title=f'Häufigkeiten von Würfelergebnissen, Anzahl Würfe: {len(rolls)} p= {p_value:.3f}',\n",
    "                      barmode='group', legend=dict(x=0.7, y=1))\n",
    "\n",
    "    \n",
    "    fig.show()\n",
    "    # # Save the plot to an image\n",
    "    # img_bytes = fig.to_image(format=\"png\")\n",
    "\n",
    "    # return BytesIO(img_bytes)\n",
    "\n",
    "# Load the DataFrame\n",
    "df = pd.read_csv(r'C:\\Users\\buehl\\repos\\Dice\\rasperry_run\\results\\results.csv')\n",
    "\n",
    "# Plot histogram for 'white' and 'red' columns\n",
    "plot_histogram(df, column_name='white')\n",
    "plot_histogram(df, column_name='red')\n"
   ]
  },
  {
   "cell_type": "code",
   "execution_count": 95,
   "metadata": {},
   "outputs": [
    {
     "data": {
      "image/png": "[encoded data removed]",
      "text/plain": [
       "<Figure size 640x480 with 1 Axes>"
      ]
     },
     "metadata": {},
     "output_type": "display_data"
    },
    {
     "data": {
      "image/png": "[encoded data removed]",
      "text/plain": [
       "<Figure size 640x480 with 1 Axes>"
      ]
     },
     "metadata": {},
     "output_type": "display_data"
    }
   ],
   "source": [
    "import numpy as np\n",
    "import matplotlib.pyplot as plt\n",
    "from scipy.stats import binom\n",
    "\n",
    "def plot_binomial_test(sample_size, observed, color='white', p_alt=2.5/6, alpha=0.05):\n",
    "    # Define parameters\n",
    "    p_true = 1/6   # Probability of success for the null hypothesis\n",
    "\n",
    "    # Calculate critical value for significance level\n",
    "    critical_value = binom.ppf(1 - alpha, sample_size, p_true)\n",
    "\n",
    "    # Generate sequence of possible outcomes\n",
    "    x = np.arange(0, sample_size)\n",
    "\n",
    "    # Calculate probability mass function values for the null hypothesis\n",
    "    density_null = binom.pmf(x, sample_size, p_true)\n",
    "\n",
    "    # Calculate power of the test\n",
    "    power = 1 - binom.cdf(observed - 1, sample_size, p_alt)\n",
    "\n",
    "    # Calculate p-value for the observed value under the real distribution\n",
    "    p_value_observed = 1 - binom.cdf(observed - 1, sample_size, p_true)\n",
    "\n",
    "    # Plot the density function\n",
    "    plt.bar(x, density_null, color='blue', hatch='//', edgecolor='black', alpha=0.5, label=f'Theoretisch')\n",
    "\n",
    "    # Add vertical lines for critical value and observed value\n",
    "    plt.axvline(x=int(critical_value), color='black', linestyle='--', label=f'95% Quantil: {int(critical_value)}')\n",
    "    \n",
    "    if color == 'red':\n",
    "        plt.axvline(x=int(observed), color='red', linestyle='--', label=f'Anzahl: {int(observed)}')\n",
    "    else:    \n",
    "        plt.axvline(x=int(observed), color='grey', linestyle='--', label=f'Anzahl: {int(observed)}')\n",
    "    \n",
    "    \n",
    "    # Add legend\n",
    "    plt.legend()\n",
    "\n",
    "    if color == 'red':\n",
    "        plt.title(f'Binomial Test für roten Würfel\\n')\n",
    "    if color == 'white':\n",
    "        plt.title(f'Binomial Test für weissen Würfel\\n')\n",
    "    \n",
    "    plt.xlabel('Anzahl Erfolge')\n",
    "    plt.ylabel('Relative Häufigkeit')\n",
    "    \n",
    "    # Set integer ticks for x-axis\n",
    "    plt.xticks(np.arange(0, sample_size+1, step=1),fontsize=7, rotation=-10)\n",
    "\n",
    "    # Customize the frame\n",
    "    ax = plt.gca()\n",
    "    ax.spines['top'].set_visible(False)\n",
    "    ax.spines['right'].set_visible(False)\n",
    "    \n",
    "    # Add a text box in front of the plot\n",
    "    text = f'Power: {power:.2f}\\n'\n",
    "    text += f'P-value: {p_value_observed:.2f}\\n\\n'\n",
    "    if p_value_observed < alpha:\n",
    "        text += \"Würfel ist vermutlich gezinkt!\"\n",
    "        text_color = 'red'\n",
    "    else:\n",
    "        text += \"Kein Beweis für einen gefälschten Würfel!\"\n",
    "        text_color = 'green'\n",
    "    \n",
    "    plt.text(0.7, 0.5, text, transform=plt.gca().transAxes,\n",
    "             bbox=dict(facecolor='white', edgecolor='black', boxstyle='round,pad=1'),\n",
    "             fontsize=12, color=text_color, ha='center', va='center')\n",
    "\n",
    "    # Show plot\n",
    "    plt.show()\n",
    "\n",
    "plot_binomial_test(sample_size=50, observed=14, color='white', p_alt=2.5/6, alpha=0.05)\n",
    "plot_binomial_test(sample_size=50, observed=14, color='red', p_alt=2.5/6, alpha=0.05)"
   ]
  }
 ],
 "metadata": {
  "kernelspec": {
   "display_name": "dice",
   "language": "python",
   "name": "python3"
  },
  "language_info": {
   "codemirror_mode": {
    "name": "ipython",
    "version": 3
   },
   "file_extension": ".py",
   "mimetype": "text/x-python",
   "name": "python",
   "nbconvert_exporter": "python",
   "pygments_lexer": "ipython3",
   "version": "3.8.18"
  }
 },
 "nbformat": 4,
 "nbformat_minor": 2
}
