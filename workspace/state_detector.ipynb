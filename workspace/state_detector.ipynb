{
 "cells": [
  {
   "cell_type": "markdown",
   "metadata": {},
   "source": [
    "# new images"
   ]
  },
  {
   "cell_type": "code",
   "execution_count": 3,
   "metadata": {},
   "outputs": [
    {
     "ename": "FileNotFoundError",
     "evalue": "[WinError 3] The system cannot find the path specified: '/home/bule/projects/Dice/workspace/data/new_camera/empty'",
     "output_type": "error",
     "traceback": [
      "\u001b[1;31m---------------------------------------------------------------------------\u001b[0m",
      "\u001b[1;31mFileNotFoundError\u001b[0m                         Traceback (most recent call last)",
      "Cell \u001b[1;32mIn[3], line 9\u001b[0m\n\u001b[0;32m      7\u001b[0m path \u001b[38;5;241m=\u001b[39m \u001b[38;5;124m\"\u001b[39m\u001b[38;5;124m/home/bule/projects/Dice/workspace/data/new_camera/empty\u001b[39m\u001b[38;5;124m\"\u001b[39m\n\u001b[0;32m      8\u001b[0m images_empty \u001b[38;5;241m=\u001b[39m []\n\u001b[1;32m----> 9\u001b[0m \u001b[38;5;28;01mfor\u001b[39;00m filename \u001b[38;5;129;01min\u001b[39;00m \u001b[43mos\u001b[49m\u001b[38;5;241;43m.\u001b[39;49m\u001b[43mlistdir\u001b[49m\u001b[43m(\u001b[49m\u001b[43mpath\u001b[49m\u001b[43m)\u001b[49m:\n\u001b[0;32m     10\u001b[0m     img \u001b[38;5;241m=\u001b[39m cv2\u001b[38;5;241m.\u001b[39mimread(os\u001b[38;5;241m.\u001b[39mpath\u001b[38;5;241m.\u001b[39mjoin(path, filename))\n\u001b[0;32m     11\u001b[0m     \u001b[38;5;28;01mif\u001b[39;00m img \u001b[38;5;129;01mis\u001b[39;00m \u001b[38;5;129;01mnot\u001b[39;00m \u001b[38;5;28;01mNone\u001b[39;00m:\n",
      "\u001b[1;31mFileNotFoundError\u001b[0m: [WinError 3] The system cannot find the path specified: '/home/bule/projects/Dice/workspace/data/new_camera/empty'"
     ]
    }
   ],
   "source": [
    "import cv2\n",
    "import os\n",
    "import matplotlib.pyplot as plt\n",
    "import numpy as np\n",
    "import seaborn as sns\n",
    "\n",
    "path = \"/home/bule/projects/Dice/workspace/data/new_camera/empty\"\n",
    "images_empty = []\n",
    "for filename in os.listdir(path):\n",
    "    img = cv2.imread(os.path.join(path, filename))\n",
    "    if img is not None:\n",
    "        images_empty.append(img)\n",
    "        \n",
    "\n",
    "images_still = []       \n",
    "path = \"/home/bule/projects/Dice/workspace/data/new_camera/still\"\n",
    "for filename in os.listdir(path):\n",
    "    img = cv2.imread(os.path.join(path, filename))\n",
    "    if img is not None:\n",
    "        images_still.append(img)             \n",
    "        \n",
    "\n",
    "gray_images_empty = [cv2.cvtColor(img, cv2.COLOR_BGR2GRAY) for img in images_empty]\n",
    "gray_images_still = [cv2.cvtColor(img, cv2.COLOR_BGR2GRAY) for img in images_still]\n",
    "\n",
    "\n",
    "scores_empty =[(np.max(im )-np.median(im))/255 for im in gray_images_empty]\n",
    "scores_still =[(np.max(im)-np.median(im))/255 for im in gray_images_still]\n",
    "\n",
    "# Scores for moving and empty images\n",
    "\n",
    "sns.distplot(scores_empty, hist=False, rug=True, label='Empty')\n",
    "sns.distplot(scores_still, hist=False, rug=True, label='Still')\n",
    "\n",
    "plt.legend()\n",
    "plt.show()\n"
   ]
  },
  {
   "cell_type": "markdown",
   "metadata": {},
   "source": [
    "# calibration "
   ]
  },
  {
   "cell_type": "code",
   "execution_count": 14,
   "metadata": {},
   "outputs": [
    {
     "name": "stdout",
     "output_type": "stream",
     "text": [
      "Calibration process started , wait for camera window to show & follow the instructions there...\n",
      "Image captured\n",
      "Image captured\n",
      "Image captured\n",
      "Image captured\n",
      "Image captured\n",
      "Image captured\n",
      "Image captured\n",
      "Image captured\n",
      "Image captured\n",
      "Image captured\n"
     ]
    },
    {
     "data": {
      "image/png": "[encoded data removed]",
      "text/plain": [
       "<Figure size 640x480 with 1 Axes>"
      ]
     },
     "metadata": {},
     "output_type": "display_data"
    },
    {
     "name": "stdout",
     "output_type": "stream",
     "text": [
      "Now you should see a histogram with two distributions, pick a threshold between them to distinguish between empty scene and scene with dices.\n",
      "New threshold: 0.5\n",
      "Calibration saved to configuration file.\n"
     ]
    }
   ],
   "source": [
    "import cv2\n",
    "import numpy as np\n",
    "import seaborn as sns\n",
    "import matplotlib.pyplot as plt\n",
    "import json\n",
    "\n",
    "def calibrate_state(calibration_file=\"configuration/state_calibration.json\"):\n",
    "    print(\"Calibration process started , wait for camera window to show & follow the instructions there...\")\n",
    "    cap = cv2.VideoCapture(0)\n",
    "    cap.set(cv2.CAP_PROP_EXPOSURE, 50)\n",
    "    if not cap.isOpened():\n",
    "        print(\"Cannot open camera\")\n",
    "        exit()\n",
    "    \n",
    "    imshape=(480,640)\n",
    "    images=[]\n",
    "    images_captured = 0\n",
    "    \n",
    "    capture_dict={0:\"one white die\",\n",
    "                1:\"two white dice\",\n",
    "                2:\"one red die\",\n",
    "                3:\"two red dice\",\n",
    "                4:\"one red die and one white die\",\n",
    "                5:\"two red dice and 2 white dice\",\n",
    "                6:\"empty scene\",\n",
    "                7:\"empty scene again\",\n",
    "                8:\"empty scene .. again \",\n",
    "                9:\"empty scene .. last one!\"}\n",
    "    \n",
    "    while images_captured < 10:\n",
    "        _, frame = cap.read()\n",
    "        \n",
    "        frame = cv2.resize(frame, imshape[::-1])\n",
    "        \n",
    "        grayscaleframe= cv2.cvtColor(frame, cv2.COLOR_BGR2GRAY)\n",
    "        txt_instructions=\"Press SPACE to capture image with: \"\n",
    "        capture_type = f\"{capture_dict[images_captured]}\"\n",
    "        cv2.putText(frame, txt_instructions, (10, 30), cv2.FONT_HERSHEY_SIMPLEX, 1, (0, 255, 0), 2, cv2.LINE_AA)\n",
    "        cv2.putText(frame, capture_type, (10, 70), cv2.FONT_HERSHEY_SIMPLEX, 1, (0, 255, 0), 2, cv2.LINE_AA)\n",
    "        cv2.imshow('frame', frame)\n",
    "        \n",
    "        key = cv2.waitKey(1) & 0xFF\n",
    "        if key == ord(' '):\n",
    "            images.append(grayscaleframe)\n",
    "            images_captured += 1\n",
    "            print(\"Image captured\")\n",
    "        elif key == ord('q'):\n",
    "            print(\"Exiting program.\")\n",
    "            break\n",
    "        \n",
    "    cap.release()\n",
    "    cv2.destroyAllWindows()\n",
    "    \n",
    "    if images_captured == 10:\n",
    "        scores =[(np.max(im )-np.median(im))/255 for im in images]\n",
    "        labels = ['dice', 'empty']\n",
    "        colors = ['blue', 'orange']\n",
    "        sns.histplot(scores[:-4], kde=True, color=colors[0], label=labels[0], alpha=0.5)\n",
    "        sns.histplot(scores[-4:], kde=True, color=colors[1], label=labels[1], alpha=0.5)\n",
    "        plt.xlabel('Scores')\n",
    "        plt.ylabel('Frequency')\n",
    "        plt.legend()\n",
    "        plt.show(block=False)\n",
    "    print(\"Now you should see a histogram with two distributions, pick a threshold between them to distinguish between empty scene and scene with dices.\")\n",
    "    new_threshold = float(input(r\"Enter threshold as float in the terminal:\"))\n",
    "    print(\"New threshold:\", new_threshold)\n",
    "    \n",
    "    confirm = str(input(\"Save to configuration?: Y/n\"))\n",
    "    if confirm == 'Y':\n",
    "        with open(calibration_file) as f:\n",
    "                calibration_dict = json.load(f)\n",
    "        calibration_dict['state_threshold']=new_threshold\n",
    "        \n",
    "        with open(calibration_file, 'w') as f:\n",
    "            json.dump(calibration_dict, f)\n",
    "        print(\"Calibration saved to configuration file.\")\n",
    "        \n",
    "    plt.close()\n",
    "    print(\"Calibration process completed.\")\n",
    "    \n",
    "    \n",
    "calibrate_state()"
   ]
  },
  {
   "cell_type": "markdown",
   "metadata": {},
   "source": [
    "# old images"
   ]
  },
  {
   "cell_type": "code",
   "execution_count": 11,
   "metadata": {},
   "outputs": [
    {
     "ename": "FileNotFoundError",
     "evalue": "[WinError 3] The system cannot find the path specified: '/home/bule/projects/Dice/workspace/data/eyes2/empty'",
     "output_type": "error",
     "traceback": [
      "\u001b[1;31m---------------------------------------------------------------------------\u001b[0m",
      "\u001b[1;31mFileNotFoundError\u001b[0m                         Traceback (most recent call last)",
      "Cell \u001b[1;32mIn[11], line 8\u001b[0m\n\u001b[0;32m      6\u001b[0m path \u001b[38;5;241m=\u001b[39m \u001b[38;5;124m\"\u001b[39m\u001b[38;5;124m/home/bule/projects/Dice/workspace/data/eyes2/empty\u001b[39m\u001b[38;5;124m\"\u001b[39m\n\u001b[0;32m      7\u001b[0m images_empty \u001b[38;5;241m=\u001b[39m []\n\u001b[1;32m----> 8\u001b[0m \u001b[38;5;28;01mfor\u001b[39;00m filename \u001b[38;5;129;01min\u001b[39;00m \u001b[43mos\u001b[49m\u001b[38;5;241;43m.\u001b[39;49m\u001b[43mlistdir\u001b[49m\u001b[43m(\u001b[49m\u001b[43mpath\u001b[49m\u001b[43m)\u001b[49m:\n\u001b[0;32m      9\u001b[0m     img \u001b[38;5;241m=\u001b[39m cv2\u001b[38;5;241m.\u001b[39mimread(os\u001b[38;5;241m.\u001b[39mpath\u001b[38;5;241m.\u001b[39mjoin(path, filename))\n\u001b[0;32m     10\u001b[0m     \u001b[38;5;28;01mif\u001b[39;00m img \u001b[38;5;129;01mis\u001b[39;00m \u001b[38;5;129;01mnot\u001b[39;00m \u001b[38;5;28;01mNone\u001b[39;00m:\n",
      "\u001b[1;31mFileNotFoundError\u001b[0m: [WinError 3] The system cannot find the path specified: '/home/bule/projects/Dice/workspace/data/eyes2/empty'"
     ]
    }
   ],
   "source": [
    "import cv2\n",
    "import os\n",
    "import matplotlib.pyplot as plt\n",
    "import numpy as np\n",
    "\n",
    "path = \"/home/bule/projects/Dice/workspace/data/eyes2/empty\"\n",
    "images_empty = []\n",
    "for filename in os.listdir(path):\n",
    "    img = cv2.imread(os.path.join(path, filename))\n",
    "    if img is not None:\n",
    "        images_empty.append(img)\n",
    "        \n",
    "images_rolling=[]\n",
    "path = \"/home/bule/projects/Dice/workspace/data/eyes2/rolling\"\n",
    "for filename in os.listdir(path):\n",
    "    img = cv2.imread(os.path.join(path, filename))\n",
    "    if img is not None:\n",
    "        images_rolling.append(img)        \n",
    " \n",
    "images_still = []       \n",
    "path = \"/home/bule/projects/Dice/workspace/data/eyes2/still\"\n",
    "for filename in os.listdir(path):\n",
    "    img = cv2.imread(os.path.join(path, filename))\n",
    "    if img is not None:\n",
    "        images_still.append(img)             \n",
    "        \n",
    "\n",
    "gray_images_empty = [cv2.cvtColor(img, cv2.COLOR_BGR2GRAY) for img in images_empty]\n",
    "gray_images_rolling = [cv2.cvtColor(img, cv2.COLOR_BGR2GRAY) for img in images_rolling]\n",
    "gray_images_still = [cv2.cvtColor(img, cv2.COLOR_BGR2GRAY) for img in images_still]\n",
    "\n",
    "\n",
    "scores_empty =[(np.max(im )-np.median(im))/255 for im in gray_images_empty]\n",
    "scores_rolling =[(np.max(im)-np.median(im))/255 for im in gray_images_rolling]\n",
    "scores_still =[(np.max(im)-np.median(im))/255 for im in gray_images_still]\n",
    "\n",
    "# Scores for moving and empty images\n",
    "\n",
    "sns.distplot(scores_empty, hist=False, rug=True, label='Empty')\n",
    "sns.distplot(scores_rolling, hist=False, rug=True, label='Rolling')\n",
    "sns.distplot(scores_still, hist=False, rug=True, label='Still')\n",
    "\n",
    "plt.legend()\n",
    "plt.show()\n"
   ]
  },
  {
   "cell_type": "code",
   "execution_count": 9,
   "metadata": {},
   "outputs": [],
   "source": [
    "from collections import deque\n",
    "import json\n",
    "\n",
    "class SceneStateDetector1:\n",
    "    def __init__(self, calibration_file='configuration/state_calibration.json', max_frames_stack=4, imshape=(480, 640)):\n",
    "        \n",
    "        with open(calibration_file) as f:\n",
    "            calibration_dict = json.load(f)\n",
    "        \n",
    "        # TODO write calibration function to calculate the threshold and moving_treshold from the empty images IO for a calibration file\n",
    "        self.threshold = calibration_dict['state_threshold']\n",
    "        self.moving_treshold = calibration_dict['moving_threshold']\n",
    "        self.state_stack_lock = False\n",
    "        self.queue =deque(maxlen=max_frames_stack)\n",
    "        self.imshape=imshape\n",
    "        self.last_frame = np.zeros(self.imshape)\n",
    "        \n",
    "    def get_scene_state(self,frame):\n",
    "        \n",
    "        frame = cv2.resize(frame, self.imshape[::-1])\n",
    "        \n",
    "        framescaled=frame/ 255.\n",
    "        \n",
    "        self.capture=False\n",
    "        # calculate score by subtracting background from the max pixel \n",
    "        score = (np.max(framescaled) - np.median(framescaled)) \n",
    "        \n",
    "        # set difference to previous frame\n",
    "        difference =np.linalg.norm(framescaled-self.last_frame) #np.sqrt((framescaled - self.last_frame)**2) #L2\n",
    "        \n",
    "        self.last_frame = framescaled\n",
    "        \n",
    "        print(\"score\",score,\"difference\",difference)\n",
    "        state = \"undecided\"\n",
    "        # deciding wether a frame is empty or moving\n",
    "        if score < self.threshold:\n",
    "            state = \"empty\"\n",
    "        \n",
    "        if difference > self.moving_treshold and score > self.threshold:\n",
    "            state = \"moving\"\n",
    "        \n",
    "        if difference < self.moving_treshold and score > self.threshold:\n",
    "            state = \"still\"\n",
    "        #  push it to the stack FIFO\n",
    "        self.queue.append(state)\n",
    "        \n",
    "        # reseting the statelock by having other states in the stack \n",
    "        if all(state != \"still\" for state in self.queue):\n",
    "            self.state_stack_lock =False\n",
    "            \n",
    "        # if all the frames in the stack are still and the state is not locked we can capture the image , indicated by return capture = True\n",
    "        if all(state == \"still\" for state in self.queue) and not self.state_stack_lock:\n",
    "            self.state_stack_lock = True\n",
    "            self.capture = True\n",
    "            state = \"empty\"\n",
    "            return state , self.capture\n",
    "        \n",
    "        \n",
    "        # retrun the state and the indicator for capturing the image\n",
    "        return state , self.capture"
   ]
  },
  {
   "cell_type": "code",
   "execution_count": 10,
   "metadata": {},
   "outputs": [
    {
     "ename": "NameError",
     "evalue": "name 'gray_images_empty' is not defined",
     "output_type": "error",
     "traceback": [
      "\u001b[1;31m---------------------------------------------------------------------------\u001b[0m",
      "\u001b[1;31mNameError\u001b[0m                                 Traceback (most recent call last)",
      "Cell \u001b[1;32mIn[10], line 2\u001b[0m\n\u001b[0;32m      1\u001b[0m \u001b[38;5;66;03m# create test sequence # 5 empty  5 rolling 5 still 5 rolling\u001b[39;00m\n\u001b[1;32m----> 2\u001b[0m testlist\u001b[38;5;241m=\u001b[39m\u001b[43mgray_images_empty\u001b[49m[:\u001b[38;5;241m5\u001b[39m]\u001b[38;5;241m+\u001b[39mgray_images_rolling[:\u001b[38;5;241m5\u001b[39m]\u001b[38;5;241m+\u001b[39m[np\u001b[38;5;241m.\u001b[39mcopy(gray_images_still[\u001b[38;5;241m10\u001b[39m]) \u001b[38;5;28;01mfor\u001b[39;00m _ \u001b[38;5;129;01min\u001b[39;00m \u001b[38;5;28mrange\u001b[39m(\u001b[38;5;241m10\u001b[39m)]\u001b[38;5;241m+\u001b[39mgray_images_rolling[\u001b[38;5;241m5\u001b[39m:\u001b[38;5;241m10\u001b[39m]\n\u001b[0;32m      5\u001b[0m \u001b[38;5;66;03m##TODO  test edge and corner cases and test with a video stream..\u001b[39;00m\n\u001b[0;32m      7\u001b[0m detector \u001b[38;5;241m=\u001b[39m SceneStateDetector1(calibration_file\u001b[38;5;241m=\u001b[39m\u001b[38;5;124m'\u001b[39m\u001b[38;5;124mconfiguration/state_calibration.json\u001b[39m\u001b[38;5;124m'\u001b[39m, max_frames_stack\u001b[38;5;241m=\u001b[39m\u001b[38;5;241m4\u001b[39m)\n",
      "\u001b[1;31mNameError\u001b[0m: name 'gray_images_empty' is not defined"
     ]
    }
   ],
   "source": [
    "# create test sequence # 5 empty  5 rolling 5 still 5 rolling\n",
    "testlist=gray_images_empty[:5]+gray_images_rolling[:5]+[np.copy(gray_images_still[10]) for _ in range(10)]+gray_images_rolling[5:10]\n",
    "\n",
    "\n",
    "##TODO  test edge and corner cases and test with a video stream..\n",
    "\n",
    "detector = SceneStateDetector1(calibration_file='configuration/state_calibration.json', max_frames_stack=4)\n",
    "\n",
    "for frame in testlist:  # Replace with your actual camera stream loop\n",
    "    print(\"-------------------------------------------------- new frame below\")\n",
    "    plt.imshow(cv2.cvtColor(frame, cv2.COLOR_BGR2RGB))\n",
    "    plt.show()\n",
    "    state,im_capture = detector.get_scene_state(frame)\n",
    "    print(detector.queue)\n",
    "    print(\"Current State:\", state, \"Capture:\", im_capture)\n"
   ]
  }
 ],
 "metadata": {
  "kernelspec": {
   "display_name": "dice",
   "language": "python",
   "name": "python3"
  },
  "language_info": {
   "codemirror_mode": {
    "name": "ipython",
    "version": 3
   },
   "file_extension": ".py",
   "mimetype": "text/x-python",
   "name": "python",
   "nbconvert_exporter": "python",
   "pygments_lexer": "ipython3",
   "version": "3.8.18"
  }
 },
 "nbformat": 4,
 "nbformat_minor": 2
}
